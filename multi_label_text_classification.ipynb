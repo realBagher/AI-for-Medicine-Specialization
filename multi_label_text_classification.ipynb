{
  "cells": [
    {
      "cell_type": "markdown",
      "metadata": {
        "id": "view-in-github",
        "colab_type": "text"
      },
      "source": [
        "<a href=\"https://colab.research.google.com/github/realBagher/AI-for-Medicine-Specialization/blob/main/multi_label_text_classification.ipynb\" target=\"_parent\"><img src=\"https://colab.research.google.com/assets/colab-badge.svg\" alt=\"Open In Colab\"/></a>"
      ]
    },
    {
      "cell_type": "markdown",
      "source": [
        "# Multi-label-Text Classification \n",
        "An interview task represented by DataColab Team based on highly sparsed datasets of new sections \n",
        "<br>\n",
        "our approach to solve this challenge includes \n",
        "\n",
        "\n",
        "1.   Cleaning the Data \n",
        "2.   Finding the required attributs as per requested by the Datacolab Team \n",
        "3. fine-tuning bert-uncased model on the dataset\n",
        "4. infering the topics on the test set \n",
        "\n",
        "\n",
        "\n",
        "* by MohammadReza Bagherian "
      ],
      "metadata": {
        "id": "e6isdbrLbBUJ"
      }
    },
    {
      "cell_type": "markdown",
      "source": [
        "## Importing Dependencies "
      ],
      "metadata": {
        "id": "ebwlubXQcEgN"
      }
    },
    {
      "cell_type": "code",
      "execution_count": null,
      "metadata": {
        "id": "QXMdApzWaRqo"
      },
      "outputs": [],
      "source": [
        "import pandas as pd \n",
        "import numpy as np \n",
        "\n",
        "import urllib.request\n",
        "import json\n",
        "\n",
        "\n",
        "import torch \n",
        "import torch.nn as nn \n",
        "import shutil \n",
        "import sys \n",
        "\n",
        "!pip install transformers==4.28.0"
      ]
    },
    {
      "cell_type": "markdown",
      "source": [
        "## Loading the Data "
      ],
      "metadata": {
        "id": "S1my0yK1cMOd"
      }
    },
    {
      "cell_type": "code",
      "execution_count": 2,
      "metadata": {
        "id": "R3FfgeF7afJ9"
      },
      "outputs": [],
      "source": [
        "to_fill = pd.read_csv('/content/to_fill.csv')\n",
        "stories = pd.read_csv('/content/stories.csv')"
      ]
    },
    {
      "cell_type": "code",
      "execution_count": null,
      "metadata": {
        "id": "QssKUQxDak50"
      },
      "outputs": [],
      "source": [
        "import json\n",
        "\n",
        "# Open the JSON file\n",
        "with open('/content/12387.json') as f:\n",
        "    data12387 = json.load(f)\n",
        "print(data12387)\n",
        "\n",
        "\n",
        "with open('/content/16859.json') as f:\n",
        "    data16859 = json.load(f)\n",
        "print(data12387)\n",
        "\n",
        "\n",
        "\n",
        "with open('/content/18246.json') as f:\n",
        "    data18246 = json.load(f)\n",
        "\n",
        "print(data12387)"
      ]
    },
    {
      "cell_type": "markdown",
      "source": [
        "## Prepocessing \n"
      ],
      "metadata": {
        "id": "rpxKXK7kcPsE"
      }
    },
    {
      "cell_type": "markdown",
      "source": [
        "in this section we extract the **sections of interest** in the text based on the starting and ending words provided in to_fill csv "
      ],
      "metadata": {
        "id": "w1TySCLqczyL"
      }
    },
    {
      "cell_type": "code",
      "execution_count": 4,
      "metadata": {
        "id": "wg-v1VHXaphc"
      },
      "outputs": [],
      "source": [
        "def extract_sentences(text, start_phrase, end_phrase):\n",
        "    \"\"\"\n",
        "    Extracts all sentences in a given text that are between the start and end phrases.\n",
        "\n",
        "    Args:\n",
        "    text (str): The text to extract sentences from.\n",
        "    start_phrase (str): The phrase that marks the start of the desired sentences.\n",
        "    end_phrase (str): The phrase that marks the end of the desired sentences.\n",
        "\n",
        "    Returns:\n",
        "    text (String): The sentences that are between the start and end phrases.\n",
        "    \"\"\"\n",
        "   \n",
        "    start_index = text.find(start_phrase)\n",
        "    end_index = text.find(end_phrase)\n",
        "    extraction = text[start_index:(end_index+len(end_phrase))]\n",
        "    return extraction"
      ]
    },
    {
      "cell_type": "code",
      "execution_count": 5,
      "metadata": {
        "id": "PTavm1X2atQb"
      },
      "outputs": [],
      "source": [
        "def extract_soi(id,start_phrase_,end_phrase_):\n",
        "  \"\"\"\n",
        "    Extracts Section of interest from a text document based on the start and end phrases provided in Dataframe.\n",
        "\n",
        "    Parameters:\n",
        "    id (int): The id of the text document to select.\n",
        "    start_phrase (str): The starting phrase of the sentences to extract.\n",
        "    end_phrase (str): The ending phrase of the sentences to extract.\n",
        "\n",
        "    Returns:\n",
        "    list: A list of sentences that match the criteria defined by the start and end phrases.\n",
        "    \"\"\"\n",
        "  text = None \n",
        "  if id == 12387:\n",
        "    text = data12387.get('text')\n",
        "  elif id == 16859:\n",
        "    text = data16859.get('text')\n",
        "  elif id == 18246:\n",
        "    text = data18246.get('text')\n",
        "  else:\n",
        "    return 'error on ' , id\n",
        "\n",
        "  \n",
        " \n",
        "  return extract_sentences(text,start_phrase_,end_phrase_)\n"
      ]
    },
    {
      "cell_type": "markdown",
      "source": [
        "two rows of the to_fill csv had the last word of the section repeated twice which would cause problems for extraction thus we rectified the problem by editing to_fill dataframe \n"
      ],
      "metadata": {
        "id": "6Agoab_gdEmE"
      }
    },
    {
      "cell_type": "code",
      "execution_count": 6,
      "metadata": {
        "id": "uDRqrbZjbAbU"
      },
      "outputs": [],
      "source": [
        "to_fill.loc[12,'last_words'] = ' '.join(to_fill.loc[12,'last_words'].split()[:-1])"
      ]
    },
    {
      "cell_type": "code",
      "execution_count": 7,
      "metadata": {
        "id": "k6ZzPUmXbB3j"
      },
      "outputs": [],
      "source": [
        "to_fill.loc[1,'last_words'] = ' '.join(to_fill.loc[1,'last_words'].split()[:-1])"
      ]
    },
    {
      "cell_type": "code",
      "execution_count": 8,
      "metadata": {
        "id": "0lS7DX9bbDkL"
      },
      "outputs": [],
      "source": [
        "to_fill['body'] = to_fill.apply(lambda row : extract_soi(row[2],row[0],row[1]),axis=1)"
      ]
    },
    {
      "cell_type": "markdown",
      "source": [
        "using the text extracted in previous section we extract the starting and ending time of the phrase using the word pool"
      ],
      "metadata": {
        "id": "WXCjCIfJdiG-"
      }
    },
    {
      "cell_type": "code",
      "execution_count": 9,
      "metadata": {
        "id": "QrSIu2vebaq0"
      },
      "outputs": [],
      "source": [
        "def check_phrase_start_time(id, phrase):\n",
        "    \"\"\"\n",
        "       Check if the given phrase is present in the word pool associated with the given id, \n",
        "    and return the start time of the first occurrence of the phrase in the word pool. \n",
        "    \n",
        "    Args:\n",
        "    - id (int): The id associated with the word pool to search in.\n",
        "    - phrase (str): The phrase to search for in the word pool.\n",
        "    \n",
        "    Returns:\n",
        "    - If a match is found, the start time of the first occurrence of the phrase in the word pool\n",
        "      is returned. If no match is found, 'no pattern found' is printed and None is returned.\n",
        "    - If an invalid id is provided, 'error on ' is printed followed by the invalid id and None is returned.\n",
        "    \n",
        "       \n",
        "    \"\"\"\n",
        "\n",
        "  \n",
        "    phrase = phrase.split()\n",
        "    word_pool = None\n",
        "    if id == 12387:\n",
        "        word_pool = data12387.get('words')\n",
        "    elif id == 16859:\n",
        "        word_pool = data16859.get('words')\n",
        "    elif id == 18246:\n",
        "        word_pool = data18246.get('words')\n",
        "    else:\n",
        "        return 'error on ', id\n",
        "    \n",
        "    found_match = False\n",
        "    for i in range(len(word_pool)):\n",
        "        j = 0\n",
        "        if word_pool[i]['text'] == phrase[j]:\n",
        "            temp = i\n",
        "            while j < len(phrase) - 1:\n",
        "                temp += 1\n",
        "                if word_pool[temp]['text'] == phrase[j+1]:\n",
        "                    j += 1\n",
        "                else:\n",
        "                    break\n",
        "            if j == len(phrase) - 1:\n",
        "                found_match = True\n",
        "                print('pattern found:', i,word_pool[i]['text'],' -at time: ' ,word_pool[i]['start'])\n",
        "                return word_pool[i]['start']\n",
        "    if not found_match:\n",
        "        print('no pattern found')\n"
      ]
    },
    {
      "cell_type": "code",
      "execution_count": null,
      "metadata": {
        "id": "A-fvCmTDbnBL"
      },
      "outputs": [],
      "source": [
        "to_fill['start'] = to_fill.apply(lambda row : check_phrase_start_time(row[2],row[0]),axis=1)"
      ]
    },
    {
      "cell_type": "code",
      "execution_count": 11,
      "metadata": {
        "id": "qP61aGntbpx0"
      },
      "outputs": [],
      "source": [
        "def check_phrase_end_time(id, phrase):\n",
        "    \"\"\"\n",
        "    Check if the given phrase is present in the word pool associated with the given id,\n",
        "    and return the end time of the last occurrence of the phrase in the word pool.\n",
        "\n",
        "    Args:\n",
        "        id (int): The id associated with the word pool to search in.\n",
        "        phrase (str): The phrase to search for in the word pool.\n",
        "\n",
        "    Returns:\n",
        "        If a match is found, the end time of the last occurrence of the phrase in the word pool\n",
        "        is returned. If no match is found, 'no pattern found' is printed and None is returned.\n",
        "        If an invalid id is provided, 'error on' followed by the invalid id is returned as a string.\n",
        "    \"\"\"\n",
        "    phrase = phrase.split()\n",
        "    word_pool = None\n",
        "    if id == 12387:\n",
        "        word_pool = data12387.get('words')\n",
        "    elif id == 16859:\n",
        "        word_pool = data16859.get('words')\n",
        "    elif id == 18246:\n",
        "        word_pool = data18246.get('words')\n",
        "    else:\n",
        "        return 'error on ', id\n",
        "    \n",
        "    found_match = False\n",
        "    for i in range(len(word_pool)):\n",
        "        j = 0\n",
        "        if word_pool[i]['text'] == phrase[j]:\n",
        "            temp = i\n",
        "            while j < len(phrase) - 1:\n",
        "                temp += 1\n",
        "                if word_pool[temp]['text'] == phrase[j+1]:\n",
        "                    j += 1\n",
        "                else:\n",
        "                    break\n",
        "            if j == len(phrase) - 1:\n",
        "                found_match = True\n",
        "                print('pattern found:', i,word_pool[temp]['text'],' -at time: ' ,word_pool[temp]['start'])\n",
        "                return word_pool[temp]['start']\n",
        "    if not found_match:\n",
        "        print('no pattern found')\n"
      ]
    },
    {
      "cell_type": "code",
      "execution_count": null,
      "metadata": {
        "id": "b4DhW4bwbz1l"
      },
      "outputs": [],
      "source": [
        "to_fill['end'] = to_fill.apply(lambda row : check_phrase_end_time(row[2],row[1]),axis=1)"
      ]
    },
    {
      "cell_type": "markdown",
      "source": [
        "29 rows of the stories dataframe have empty body column which hinders the traing thus we remove them from training data "
      ],
      "metadata": {
        "id": "WrQGwYWveKaE"
      }
    },
    {
      "cell_type": "code",
      "execution_count": 13,
      "metadata": {
        "id": "oquRiXipb4Lr"
      },
      "outputs": [],
      "source": [
        "model_data = stories[stories['body'] != ' ']"
      ]
    },
    {
      "cell_type": "code",
      "execution_count": 14,
      "metadata": {
        "id": "D5BMutaocHDb"
      },
      "outputs": [],
      "source": [
        "topic_set = {'dummy',}"
      ]
    },
    {
      "cell_type": "markdown",
      "source": [
        "### finding the unique topics of the news based on uuid "
      ],
      "metadata": {
        "id": "hv5scpx4esP6"
      }
    },
    {
      "cell_type": "code",
      "execution_count": 15,
      "metadata": {
        "id": "AOf8BtskcMX0"
      },
      "outputs": [],
      "source": [
        "def split_(input,topic_sett):\n",
        "    \n",
        "    \"\"\"\n",
        "    used for finding the unique uuids of the topics \n",
        "    Split the input string by comma (',') and add each split element to the topic_sett set.\n",
        "\n",
        "    Args:\n",
        "        input (str): The input string to be split.\n",
        "        topic_sett (set): The set to which the split elements will be added.\n",
        "\n",
        "    Returns:\n",
        "        None. The function modifies the topic_sett set in place.\n",
        "\n",
        "    Example:\n",
        "        >>> input = \"topic1, topic2, topic3\"\n",
        "        >>> topic_sett = set()\n",
        "        >>> split_(input, topic_sett)\n",
        "        >>> print(topic_sett)\n",
        "        {'topic1', 'topic2', 'topic3'}\n",
        "    \"\"\"\n",
        "    temp = input.split(',')\n",
        "    for i in temp:\n",
        "     i = i.replace('[','')\n",
        "     i = i.replace(']','')\n",
        "     i = i.replace('\\'','')\n",
        "     i = i.replace(' ','')\n",
        "     topic_sett.add(i)\n",
        "    "
      ]
    },
    {
      "cell_type": "code",
      "execution_count": 16,
      "metadata": {
        "colab": {
          "base_uri": "https://localhost:8080/"
        },
        "id": "QzecThNNcO2U",
        "outputId": "9b873afa-15ef-4543-f089-e07d6bd603fa"
      },
      "outputs": [
        {
          "output_type": "execute_result",
          "data": {
            "text/plain": [
              "4       None\n",
              "8       None\n",
              "11      None\n",
              "12      None\n",
              "15      None\n",
              "        ... \n",
              "5176    None\n",
              "5177    None\n",
              "5178    None\n",
              "5179    None\n",
              "5180    None\n",
              "Length: 5152, dtype: object"
            ]
          },
          "metadata": {},
          "execution_count": 16
        }
      ],
      "source": [
        "model_data.apply(lambda row : split_(row[1],topic_set),axis=1)"
      ]
    },
    {
      "cell_type": "code",
      "execution_count": 17,
      "metadata": {
        "id": "7o_eVugmcR3T"
      },
      "outputs": [],
      "source": [
        "topic_set.remove('dummy')"
      ]
    },
    {
      "cell_type": "markdown",
      "source": [
        "mappping each unique uuid to a number for ease of use in one-hot-encoding "
      ],
      "metadata": {
        "id": "Fg3kz-8me2Zy"
      }
    },
    {
      "cell_type": "code",
      "execution_count": 18,
      "metadata": {
        "colab": {
          "base_uri": "https://localhost:8080/"
        },
        "id": "M9sU7YYAciFC",
        "outputId": "9a272ac0-86b7-4241-e324-7e8614f5abd9"
      },
      "outputs": [
        {
          "output_type": "stream",
          "name": "stdout",
          "text": [
            "{'b49207eb-96eb-4b73-b534-adc0ef85022a': 0, 'a58b4b70-1b59-4240-917d-a2165a0ce2f0': 1, 'ebf2991e-4b7d-44c6-927b-a261a7b21d2c': 2, '74e2fab8-689f-4e17-9a1c-e1f92e084f55': 3, '0d817400-3f5d-41e0-929c-c31fdbe75d31': 4, '39822b5f-e37e-43e8-b997-7142fe55c3ea': 5, '9a06646a-e1df-4fca-888e-69658420556b': 6, 'ca197b81-ca86-4792-8c25-2ba7cd4195b5': 7, 'e7cbe38d-c987-4113-aa94-fd77eda451d5': 8, '83a09c6b-5f2f-421f-ae50-b38acca7e008': 9, 'aa1edc37-1a01-414a-bcf7-8517e7c7053d': 10, '96326734-fd82-4350-b45c-513e7eb9147c': 11, '9ff54ded-904b-4e0c-85ce-a3617f5cb913': 12, '6fbf954a-03f9-4782-a65f-783271c9c447': 13, 'f5cdd7f2-9d4d-4ba5-9925-00c1701e30fa': 14}\n"
          ]
        }
      ],
      "source": [
        "topic_dic = {}\n",
        "# Example list of values\n",
        "values = topic_set\n",
        "# Create a dictionary to map values to numbers\n",
        "value_to_number = {}\n",
        "\n",
        "# Assign a unique number to each value and store it in the dictionary\n",
        "for i, value in enumerate(values):\n",
        "    value_to_number[value] = i\n",
        "\n",
        "# Print the resulting dictionary\n",
        "print(value_to_number)\n",
        "topic_dic = value_to_number"
      ]
    },
    {
      "cell_type": "code",
      "execution_count": 19,
      "metadata": {
        "id": "6VX9Y_ODckea"
      },
      "outputs": [],
      "source": [
        "df = model_data"
      ]
    },
    {
      "cell_type": "markdown",
      "source": [
        "### one-hot-encoding of the topics "
      ],
      "metadata": {
        "id": "PvimSNEWe-C8"
      }
    },
    {
      "cell_type": "code",
      "execution_count": 20,
      "metadata": {
        "id": "moilcceCcqzL"
      },
      "outputs": [],
      "source": [
        "def encode_labels(indexx, topic, df, _dict):\n",
        "    \"\"\"\n",
        "    Encodes labels for a given index in a DataFrame based on a topic string and a mapping dictionary into ONE-HOT-ENCODING.\n",
        "\n",
        "    Args:\n",
        "        indexx (int): Index of the row in the DataFrame to encode labels for.\n",
        "        topic (str): Topic string containing one or more labels separated by commas.\n",
        "        df (pandas.DataFrame): DataFrame where the labels will be encoded.\n",
        "        _dict (dict): Mapping dictionary that maps labels to column names in the DataFrame.\n",
        "\n",
        "    Returns:\n",
        "        None: The function modifies the DataFrame in-place by encoding the labels.\n",
        "\n",
        "    \"\"\"\n",
        "    temp = topic.split(',')\n",
        "    for i in temp:\n",
        "     i = i.replace('[','')\n",
        "     i = i.replace(']','')\n",
        "     i = i.replace('\\'','')\n",
        "     i = i.replace(' ','')\n",
        "     df.loc[indexx,topic_dic[i]] = 1\n",
        "    \n",
        "    "
      ]
    },
    {
      "cell_type": "code",
      "execution_count": 21,
      "metadata": {
        "colab": {
          "base_uri": "https://localhost:8080/"
        },
        "id": "qypE2BiEctOy",
        "outputId": "d902e8da-cdc0-4ef0-d6ba-ee8d47d420d4"
      },
      "outputs": [
        {
          "output_type": "execute_result",
          "data": {
            "text/plain": [
              "4       None\n",
              "8       None\n",
              "11      None\n",
              "12      None\n",
              "15      None\n",
              "        ... \n",
              "5176    None\n",
              "5177    None\n",
              "5178    None\n",
              "5179    None\n",
              "5180    None\n",
              "Length: 5152, dtype: object"
            ]
          },
          "metadata": {},
          "execution_count": 21
        }
      ],
      "source": [
        "df.apply(lambda row : encode_labels(row.name,row[1],df,topic_dic),axis=1)"
      ]
    },
    {
      "cell_type": "code",
      "execution_count": 22,
      "metadata": {
        "id": "Z57nQF7xczgK"
      },
      "outputs": [],
      "source": [
        "df = df.fillna(0)\n",
        "df.to_csv('df_processed_no_token.csv', index=False)"
      ]
    },
    {
      "cell_type": "markdown",
      "source": [
        "assuming that the dataset has uniform distribution we use ```df.sample``` to create train and validation datasets for model "
      ],
      "metadata": {
        "id": "3ILu8OIWfG9i"
      }
    },
    {
      "cell_type": "code",
      "execution_count": 23,
      "metadata": {
        "id": "YsVy0QsDc1zp"
      },
      "outputs": [],
      "source": [
        "train_size = 0.8\n",
        "train_df = df.sample(frac=train_size, random_state=200)\n",
        "val_df = df.drop(train_df.index).reset_index(drop=True)"
      ]
    },
    {
      "cell_type": "code",
      "execution_count": 24,
      "metadata": {
        "id": "EnrocF-pddzZ"
      },
      "outputs": [],
      "source": [
        "train_df.drop(['topic'],inplace=True,axis=1)\n",
        "val_df.drop(['topic'],inplace=True,axis=1)\n"
      ]
    },
    {
      "cell_type": "code",
      "execution_count": 25,
      "metadata": {
        "id": "63WZ7yr5diU5"
      },
      "outputs": [],
      "source": [
        "train_df = train_df.reset_index(drop=True)"
      ]
    },
    {
      "cell_type": "code",
      "execution_count": 26,
      "metadata": {
        "colab": {
          "base_uri": "https://localhost:8080/"
        },
        "id": "p-6q7eiFdj0D",
        "outputId": "4ab1be80-6f02-4600-c4d1-07054ade79eb"
      },
      "outputs": [
        {
          "output_type": "execute_result",
          "data": {
            "text/plain": [
              "(5152, 4122, 4122)"
            ]
          },
          "metadata": {},
          "execution_count": 26
        }
      ],
      "source": [
        "len(df),len(train_df),len(train_df)"
      ]
    },
    {
      "cell_type": "code",
      "execution_count": 27,
      "metadata": {
        "colab": {
          "base_uri": "https://localhost:8080/"
        },
        "id": "zfDlkAKidoOZ",
        "outputId": "971c7f41-d2ad-42de-ed49-c98b66aedce2"
      },
      "outputs": [
        {
          "output_type": "stream",
          "name": "stdout",
          "text": [
            "cuda\n"
          ]
        }
      ],
      "source": [
        "device = torch.device('cuda') if torch.cuda.is_available() else torch.device('cpu')\n",
        "print(device)"
      ]
    },
    {
      "cell_type": "markdown",
      "source": [
        "## Fine-tuning model"
      ],
      "metadata": {
        "id": "OaKHGUn1fVKa"
      }
    },
    {
      "cell_type": "code",
      "execution_count": 28,
      "metadata": {
        "colab": {
          "base_uri": "https://localhost:8080/",
          "height": 523,
          "referenced_widgets": [
            "ac6b07061fd8429c87b4b643212c3a29",
            "5f069e86f13d4a88bca45a29eda390f2",
            "b4ee47977fe3426e8ec6441f7d3c34e0",
            "3ebf83946e304b0d89fda29e1c7d8cba",
            "da424ed9726847269e7601f260467cb2",
            "9c596a1c4a4d42df8d4bbbb1a6d2d8df",
            "d058d869c39d4f169d99bcf88759138e",
            "b5120eb3bb1845a79638e943b0683cbd",
            "2289ed5d3ae1402d89f2d7f6c6ac01f3",
            "5cffaca7d9bd4a9585456ac5cf3eb954",
            "b973ab841a7540fe939a98c571091e20",
            "1546baeee03d4a8b8975042a25bac225",
            "407ea22ecc0c419082889b256e241dab",
            "3d266fd37dd34c73b8b4fae9edc4b69a",
            "9cdea678af7f48afa0e0ac1edff94bb0",
            "c7d9b45845884b83a10def6459931486",
            "d684c3bff78d4badba37dbc1fc0bd0d2",
            "2bf90903ceba473082bd30b26c052758",
            "090008ce75df4bdb9c7ceb6f9d5983b2",
            "00c8e9904170412483a8dcd90f38bdd8",
            "be33fada67ac48a29f51c3abc08b22b6",
            "dab6315657a04289ae26c79f0077fb6c",
            "78246bda080c4456bce2dba5ffa01b64",
            "3b2b1eccd68846388eee574825531649",
            "adffb47715924a619161e7e2af480fbc",
            "373c47b0055d40ea929e259a079b19c9",
            "e3ac87432851418ba624ec29ca353d51",
            "cc054a5021ea446695e003f05e098c42",
            "b84433b923054f43aee3688b4410a73a",
            "87bdcfe751414e3d9963b00edc39ceb4",
            "4f727f3fc3414e6f8c997b877e8fb348",
            "04b06878c0f7447c8f1a01c777a406f4",
            "be34316c053042ec8f092a64026a2e9a",
            "1eb81b909c3d431089919916538fd9e8",
            "f738b43d184741338c2d55c4a0f0b9f7",
            "7dc9d01286de4b81b898e9ec6a82b073",
            "2748daafcb1a4aecbcd65f0aa67f2997",
            "7eaea71661cc4bfc87dcdf9d910ec363",
            "37b7b41261714d11ba65ae396f56c439",
            "1cd3af114ee2463786b7649d333b5dc4",
            "549a1a8b6aca4519baf7d3f515df45c5",
            "9c0f1872f3574c8d8298efc68328c0d0",
            "6a4d4b18ad1848788de5e6ecd1246765",
            "c1324bb5009e4c51943669f5a88f82a2",
            "e4c8ae0f81044cdbbce603d78e51dc09",
            "0902b9b51f5c4b78a548090dbc3e9f27",
            "ff13404853a74947b1cf979601d8f19c",
            "baf67be8c18a41789f55e4697b11a867",
            "e03fc79875d04ab4be2dd953ad9bcd9a",
            "95329259fd6e4d2d81b5651a022895c9",
            "1a388264fbc8430190152001c8a097e9",
            "79bd5e1d85da4b6498504b2def984497",
            "e810e9176c0a4340b2fd618bf792c792",
            "23c27e86096c4e48a6f7fba926fdfb86",
            "8ead2aff9f96427f979097c496fadd1e"
          ]
        },
        "id": "kvkubWAgeHNh",
        "outputId": "e2e02c5c-a162-488f-f8f5-64a76ae28c3e"
      },
      "outputs": [
        {
          "output_type": "display_data",
          "data": {
            "text/plain": [
              "Downloading (…)okenizer_config.json:   0%|          | 0.00/28.0 [00:00<?, ?B/s]"
            ],
            "application/vnd.jupyter.widget-view+json": {
              "version_major": 2,
              "version_minor": 0,
              "model_id": "ac6b07061fd8429c87b4b643212c3a29"
            }
          },
          "metadata": {}
        },
        {
          "output_type": "display_data",
          "data": {
            "text/plain": [
              "Downloading (…)lve/main/config.json:   0%|          | 0.00/570 [00:00<?, ?B/s]"
            ],
            "application/vnd.jupyter.widget-view+json": {
              "version_major": 2,
              "version_minor": 0,
              "model_id": "1546baeee03d4a8b8975042a25bac225"
            }
          },
          "metadata": {}
        },
        {
          "output_type": "display_data",
          "data": {
            "text/plain": [
              "Downloading (…)solve/main/vocab.txt:   0%|          | 0.00/232k [00:00<?, ?B/s]"
            ],
            "application/vnd.jupyter.widget-view+json": {
              "version_major": 2,
              "version_minor": 0,
              "model_id": "78246bda080c4456bce2dba5ffa01b64"
            }
          },
          "metadata": {}
        },
        {
          "output_type": "display_data",
          "data": {
            "text/plain": [
              "Downloading (…)/main/tokenizer.json:   0%|          | 0.00/466k [00:00<?, ?B/s]"
            ],
            "application/vnd.jupyter.widget-view+json": {
              "version_major": 2,
              "version_minor": 0,
              "model_id": "1eb81b909c3d431089919916538fd9e8"
            }
          },
          "metadata": {}
        },
        {
          "output_type": "display_data",
          "data": {
            "text/plain": [
              "Downloading pytorch_model.bin:   0%|          | 0.00/440M [00:00<?, ?B/s]"
            ],
            "application/vnd.jupyter.widget-view+json": {
              "version_major": 2,
              "version_minor": 0,
              "model_id": "e4c8ae0f81044cdbbce603d78e51dc09"
            }
          },
          "metadata": {}
        },
        {
          "output_type": "stream",
          "name": "stderr",
          "text": [
            "Some weights of the model checkpoint at bert-base-uncased were not used when initializing BertForSequenceClassification: ['cls.seq_relationship.weight', 'cls.predictions.transform.LayerNorm.bias', 'cls.predictions.bias', 'cls.predictions.transform.LayerNorm.weight', 'cls.predictions.transform.dense.bias', 'cls.predictions.decoder.weight', 'cls.seq_relationship.bias', 'cls.predictions.transform.dense.weight']\n",
            "- This IS expected if you are initializing BertForSequenceClassification from the checkpoint of a model trained on another task or with another architecture (e.g. initializing a BertForSequenceClassification model from a BertForPreTraining model).\n",
            "- This IS NOT expected if you are initializing BertForSequenceClassification from the checkpoint of a model that you expect to be exactly identical (initializing a BertForSequenceClassification model from a BertForSequenceClassification model).\n",
            "Some weights of BertForSequenceClassification were not initialized from the model checkpoint at bert-base-uncased and are newly initialized: ['classifier.bias', 'classifier.weight']\n",
            "You should probably TRAIN this model on a down-stream task to be able to use it for predictions and inference.\n",
            "/usr/local/lib/python3.10/dist-packages/transformers/optimization.py:391: FutureWarning: This implementation of AdamW is deprecated and will be removed in a future version. Use the PyTorch implementation torch.optim.AdamW instead, or set `no_deprecation_warning=True` to disable this warning\n",
            "  warnings.warn(\n"
          ]
        },
        {
          "output_type": "display_data",
          "data": {
            "text/plain": [
              "<IPython.core.display.HTML object>"
            ],
            "text/html": [
              "\n",
              "    <div>\n",
              "      \n",
              "      <progress value='3093' max='3093' style='width:300px; height:20px; vertical-align: middle;'></progress>\n",
              "      [3093/3093 23:48, Epoch 3/3]\n",
              "    </div>\n",
              "    <table border=\"1\" class=\"dataframe\">\n",
              "  <thead>\n",
              " <tr style=\"text-align: left;\">\n",
              "      <th>Epoch</th>\n",
              "      <th>Training Loss</th>\n",
              "      <th>Validation Loss</th>\n",
              "      <th>F1 Micro</th>\n",
              "      <th>Roc Auc Micro</th>\n",
              "      <th>Accuracy</th>\n",
              "    </tr>\n",
              "  </thead>\n",
              "  <tbody>\n",
              "    <tr>\n",
              "      <td>1</td>\n",
              "      <td>0.156300</td>\n",
              "      <td>0.147651</td>\n",
              "      <td>0.634084</td>\n",
              "      <td>0.950785</td>\n",
              "      <td>0.378641</td>\n",
              "    </tr>\n",
              "    <tr>\n",
              "      <td>2</td>\n",
              "      <td>0.124200</td>\n",
              "      <td>0.129834</td>\n",
              "      <td>0.717988</td>\n",
              "      <td>0.961108</td>\n",
              "      <td>0.461165</td>\n",
              "    </tr>\n",
              "    <tr>\n",
              "      <td>3</td>\n",
              "      <td>0.095600</td>\n",
              "      <td>0.125840</td>\n",
              "      <td>0.724837</td>\n",
              "      <td>0.964170</td>\n",
              "      <td>0.478641</td>\n",
              "    </tr>\n",
              "  </tbody>\n",
              "</table><p>"
            ]
          },
          "metadata": {}
        },
        {
          "output_type": "execute_result",
          "data": {
            "text/plain": [
              "TrainOutput(global_step=3093, training_loss=0.15059256977607932, metrics={'train_runtime': 1432.3046, 'train_samples_per_second': 8.634, 'train_steps_per_second': 2.159, 'total_flos': 3254011080136704.0, 'train_loss': 0.15059256977607932, 'epoch': 3.0})"
            ]
          },
          "metadata": {},
          "execution_count": 28
        }
      ],
      "source": [
        "import torch\n",
        "import pandas as pd\n",
        "import ast\n",
        "from sklearn.metrics import f1_score, roc_auc_score, accuracy_score\n",
        "from transformers import AutoTokenizer, AutoModelForSequenceClassification, Trainer, TrainingArguments\n",
        "\n",
        "\n",
        "\n",
        "\n",
        "class MultiLabelDataset(torch.utils.data.Dataset):\n",
        "    \n",
        "    \"\"\"\n",
        "    A custom PyTorch Dataset for handling multi-label classification tasks.\n",
        "\n",
        "    Args:\n",
        "        dataframe (pandas.DataFrame): The input DataFrame containing text and label data.\n",
        "        tokenizer (transformers.PreTrainedTokenizer): The tokenizer used to tokenize the text data.\n",
        "\n",
        "    Attributes:\n",
        "        tokenizer (transformers.PreTrainedTokenizer): The tokenizer used to tokenize the text data.\n",
        "        data (pandas.DataFrame): The input DataFrame containing text and label data.\n",
        "\n",
        "    \"\"\"\n",
        "    \n",
        "    def __init__(self, dataframe, tokenizer):\n",
        "        self.tokenizer = tokenizer\n",
        "        self.data = dataframe\n",
        "\n",
        "    def __len__(self):\n",
        "        return len(self.data)\n",
        "\n",
        "    def __getitem__(self, index):\n",
        "        text = self.data.loc[index, 'body']\n",
        "        labels = self.data.loc[index, [0, 1,2,3,4,5,6,7,8,9,10,11,12,13,14]].values\n",
        "        labels = labels.astype(float) \n",
        "        encoding = self.tokenizer(text, truncation=True, padding='max_length', max_length=512, return_tensors='pt')\n",
        "        return {\n",
        "            'input_ids': encoding['input_ids'][0], \n",
        "            'attention_mask': encoding['attention_mask'][0], \n",
        "            'token_type_ids': encoding['token_type_ids'][0], \n",
        "            'labels': torch.tensor(labels)\n",
        "        }\n",
        "\n",
        "tokenizer = AutoTokenizer.from_pretrained('bert-base-uncased')\n",
        "model = AutoModelForSequenceClassification.from_pretrained('bert-base-uncased', num_labels=15)\n",
        "\n",
        "\n",
        "\n",
        "train_dataset = MultiLabelDataset(train_df, tokenizer)\n",
        "test_dataset = MultiLabelDataset(val_df, tokenizer)\n",
        "\n",
        "\n",
        "\n",
        "training_args = TrainingArguments(\n",
        "    output_dir='./bert-finetuned-custom-topic-data',\n",
        "    evaluation_strategy='epoch',\n",
        "    save_total_limit=5,\n",
        "    learning_rate=2e-5,\n",
        "    per_device_train_batch_size=4,\n",
        "    per_device_eval_batch_size=4,\n",
        "    num_train_epochs=3,\n",
        "    weight_decay=0.01,\n",
        "    logging_steps=50,\n",
        "\n",
        "    \n",
        ")\n",
        "\n",
        "def compute_metrics(pred):\n",
        "    labels = pred.label_ids\n",
        "    predictions = pred.predictions > 0.5\n",
        "    f1_micro = f1_score(labels, predictions, average='micro')\n",
        "    roc_auc_micro = roc_auc_score(labels, pred.predictions, average='micro')\n",
        "    accuracy = accuracy_score(labels, predictions)\n",
        "    return {\n",
        "        'f1_micro': f1_micro,\n",
        "        'roc_auc_micro': roc_auc_micro,\n",
        "        'accuracy': accuracy,\n",
        "    }\n",
        "\n",
        "trainer = Trainer(\n",
        "    model=model,\n",
        "    args=training_args,\n",
        "    train_dataset=train_dataset,\n",
        "    eval_dataset=test_dataset,\n",
        "    compute_metrics=compute_metrics,\n",
        "\n",
        ")\n",
        "\n",
        "trainer.train()\n",
        "\n"
      ]
    },
    {
      "cell_type": "code",
      "execution_count": 29,
      "metadata": {
        "colab": {
          "base_uri": "https://localhost:8080/",
          "height": 192
        },
        "id": "BLRUpffzoVph",
        "outputId": "a0427323-9cd5-4bdb-f153-3cb43d4e5edf"
      },
      "outputs": [
        {
          "output_type": "execute_result",
          "data": {
            "text/plain": [
              "'|===========================================================================|\\n|                  PyTorch CUDA memory summary, device ID 0                 |\\n|---------------------------------------------------------------------------|\\n|            CUDA OOMs: 0            |        cudaMalloc retries: 0         |\\n|===========================================================================|\\n|        Metric         | Cur Usage  | Peak Usage | Tot Alloc  | Tot Freed  |\\n|---------------------------------------------------------------------------|\\n| Allocated memory      |   1274 MiB |   3850 MiB |  37364 GiB |  37362 GiB |\\n|       from large pool |   1273 MiB |   3848 MiB |  37078 GiB |  37077 GiB |\\n|       from small pool |      1 MiB |     21 MiB |    285 GiB |    285 GiB |\\n|---------------------------------------------------------------------------|\\n| Active memory         |   1274 MiB |   3850 MiB |  37364 GiB |  37362 GiB |\\n|       from large pool |   1273 MiB |   3848 MiB |  37078 GiB |  37077 GiB |\\n|       from small pool |      1 MiB |     21 MiB |    285 GiB |    285 GiB |\\n|---------------------------------------------------------------------------|\\n| Requested memory      |   1269 MiB |   3833 MiB |  37237 GiB |  37236 GiB |\\n|       from large pool |   1267 MiB |   3831 MiB |  36952 GiB |  36950 GiB |\\n|       from small pool |      1 MiB |     21 MiB |    285 GiB |    285 GiB |\\n|---------------------------------------------------------------------------|\\n| GPU reserved memory   |   4116 MiB |   4116 MiB |   4116 MiB |      0 B   |\\n|       from large pool |   4088 MiB |   4088 MiB |   4088 MiB |      0 B   |\\n|       from small pool |     28 MiB |     28 MiB |     28 MiB |      0 B   |\\n|---------------------------------------------------------------------------|\\n| Non-releasable memory | 241094 KiB | 485990 KiB |  18380 GiB |  18380 GiB |\\n|       from large pool | 238592 KiB | 483840 KiB |  18095 GiB |  18094 GiB |\\n|       from small pool |   2502 KiB |   7657 KiB |    285 GiB |    285 GiB |\\n|---------------------------------------------------------------------------|\\n| Allocations           |     607    |     856    |    4340 K  |    4339 K  |\\n|       from large pool |     227    |     414    |    2732 K  |    2732 K  |\\n|       from small pool |     380    |     515    |    1608 K  |    1607 K  |\\n|---------------------------------------------------------------------------|\\n| Active allocs         |     607    |     856    |    4340 K  |    4339 K  |\\n|       from large pool |     227    |     414    |    2732 K  |    2732 K  |\\n|       from small pool |     380    |     515    |    1608 K  |    1607 K  |\\n|---------------------------------------------------------------------------|\\n| GPU reserved segments |     138    |     138    |     138    |       0    |\\n|       from large pool |     124    |     124    |     124    |       0    |\\n|       from small pool |      14    |      14    |      14    |       0    |\\n|---------------------------------------------------------------------------|\\n| Non-releasable allocs |      63    |     107    |    2098 K  |    2098 K  |\\n|       from large pool |      57    |      75    |    1508 K  |    1508 K  |\\n|       from small pool |       6    |      34    |     590 K  |     590 K  |\\n|---------------------------------------------------------------------------|\\n| Oversize allocations  |       0    |       0    |       0    |       0    |\\n|---------------------------------------------------------------------------|\\n| Oversize GPU segments |       0    |       0    |       0    |       0    |\\n|===========================================================================|\\n'"
            ],
            "application/vnd.google.colaboratory.intrinsic+json": {
              "type": "string"
            }
          },
          "metadata": {},
          "execution_count": 29
        }
      ],
      "source": [
        "torch.cuda.memory_summary(device=None, abbreviated=False)\n"
      ]
    },
    {
      "cell_type": "markdown",
      "source": [
        "## Inference using the fine-tuned model "
      ],
      "metadata": {
        "id": "t4AEeK6Hfe0a"
      }
    },
    {
      "cell_type": "code",
      "execution_count": 30,
      "metadata": {
        "id": "u0LaH0uWlDwj"
      },
      "outputs": [],
      "source": [
        "text_samples = to_fill['body'].to_list()"
      ]
    },
    {
      "cell_type": "code",
      "execution_count": 31,
      "metadata": {
        "colab": {
          "base_uri": "https://localhost:8080/"
        },
        "id": "uo1gesfukbjU",
        "outputId": "4f80be29-ab0c-4a1d-f43d-9da7e39c6449"
      },
      "outputs": [
        {
          "output_type": "stream",
          "name": "stdout",
          "text": [
            "[['12']]\n"
          ]
        }
      ],
      "source": [
        "def predict_topics(text_inputs, tokenizer, model):\n",
        "    \"\"\"\n",
        "    Predicts the topics for the given text inputs using a trained multi-label classification model.\n",
        "\n",
        "    Args:\n",
        "        text_inputs (str or List[str]): The text inputs to predict topics for.\n",
        "        tokenizer (transformers.PreTrainedTokenizer): The tokenizer used to tokenize the text inputs.\n",
        "        model (transformers.PreTrainedModel): The trained model for multi-label classification.\n",
        "\n",
        "    Returns:\n",
        "        List[List[str]]: A list of predicted topics for each text input.\n",
        "\n",
        "    \"\"\"\n",
        "    \n",
        "    device = next(model.parameters()).device  # Get the device of the model\n",
        "\n",
        "    # Tokenize the text inputs\n",
        "    encoded_inputs = tokenizer(\n",
        "        text_inputs,\n",
        "        truncation=True,\n",
        "        padding='max_length',\n",
        "        max_length=512,\n",
        "        return_tensors='pt'\n",
        "    )\n",
        "\n",
        "    # Move the encoded inputs to the appropriate device\n",
        "    encoded_inputs = {key: value.to(device) for key, value in encoded_inputs.items()}\n",
        "\n",
        "    # Make predictions\n",
        "    with torch.no_grad():\n",
        "        logits = model(**encoded_inputs).logits\n",
        "\n",
        "    # Apply sigmoid activation to get probabilities\n",
        "    probabilities = torch.sigmoid(logits)\n",
        "\n",
        "    # Move the probabilities and predictions to CPU\n",
        "    probabilities = probabilities.cpu()\n",
        "\n",
        "    # Convert probabilities to binary predictions (0 or 1) using a threshold of 0.5\n",
        "    predictions = (probabilities > 0.5).long()\n",
        "\n",
        "    # Convert predictions to a list of topics\n",
        "    topic_labels = ['0', '1', '2', '3', '4', '5', '6', '7', '8',\n",
        "                    '9', '10', '11', '12', '13', '14']\n",
        "    predicted_topics = []\n",
        "    for i in range(len(predictions)):\n",
        "        topic_indices = [j for j, label in enumerate(predictions[i]) if label == 1]\n",
        "        topics = [topic_labels[index] for index in topic_indices]\n",
        "        predicted_topics.append(topics)\n",
        "\n",
        "    return predicted_topics\n",
        "\n",
        "# Sanity check \n",
        "text_input = text_samples[0]\n",
        "predicted_topics = predict_topics([text_input], tokenizer, model)\n",
        "print(predicted_topics)\n"
      ]
    },
    {
      "cell_type": "markdown",
      "source": [
        "changing back the one hot encoding into uuids "
      ],
      "metadata": {
        "id": "APVcc9kIgrdi"
      }
    },
    {
      "cell_type": "code",
      "execution_count": 32,
      "metadata": {
        "colab": {
          "base_uri": "https://localhost:8080/"
        },
        "id": "Y74G3sXO7Aj5",
        "outputId": "f0e2a0e4-4d9e-45a8-9e28-28d26213a573"
      },
      "outputs": [
        {
          "output_type": "execute_result",
          "data": {
            "text/plain": [
              "{0: 'b49207eb-96eb-4b73-b534-adc0ef85022a',\n",
              " 1: 'a58b4b70-1b59-4240-917d-a2165a0ce2f0',\n",
              " 2: 'ebf2991e-4b7d-44c6-927b-a261a7b21d2c',\n",
              " 3: '74e2fab8-689f-4e17-9a1c-e1f92e084f55',\n",
              " 4: '0d817400-3f5d-41e0-929c-c31fdbe75d31',\n",
              " 5: '39822b5f-e37e-43e8-b997-7142fe55c3ea',\n",
              " 6: '9a06646a-e1df-4fca-888e-69658420556b',\n",
              " 7: 'ca197b81-ca86-4792-8c25-2ba7cd4195b5',\n",
              " 8: 'e7cbe38d-c987-4113-aa94-fd77eda451d5',\n",
              " 9: '83a09c6b-5f2f-421f-ae50-b38acca7e008',\n",
              " 10: 'aa1edc37-1a01-414a-bcf7-8517e7c7053d',\n",
              " 11: '96326734-fd82-4350-b45c-513e7eb9147c',\n",
              " 12: '9ff54ded-904b-4e0c-85ce-a3617f5cb913',\n",
              " 13: '6fbf954a-03f9-4782-a65f-783271c9c447',\n",
              " 14: 'f5cdd7f2-9d4d-4ba5-9925-00c1701e30fa'}"
            ]
          },
          "metadata": {},
          "execution_count": 32
        }
      ],
      "source": [
        "\n",
        "label_to_topic_uuid= {value: key for key, value in topic_dic.items()}\n",
        "label_to_topic_uuid"
      ]
    },
    {
      "cell_type": "code",
      "execution_count": 33,
      "metadata": {
        "id": "YdQVX6Oj4I6j"
      },
      "outputs": [],
      "source": [
        "def encode_predictions(text):\n",
        "    uuid_output = []\n",
        "    predicted_topics = predict_topics(text, tokenizer, model)\n",
        "    for j in predicted_topics[0]:\n",
        "      # print('topic',j,label_to_topic_uuid[int(j)])\n",
        "      uuid_output.append(label_to_topic_uuid[int(j)])\n",
        "\n",
        "    # print(predicted_topics)\n",
        "    return ', '.join(uuid_output)\n"
      ]
    },
    {
      "cell_type": "code",
      "execution_count": 34,
      "metadata": {
        "colab": {
          "base_uri": "https://localhost:8080/",
          "height": 354
        },
        "id": "1ILzj5aOI1uN",
        "outputId": "68306478-9123-4c23-c555-60de71c2c6a4"
      },
      "outputs": [
        {
          "output_type": "execute_result",
          "data": {
            "text/plain": [
              "                                         first_words  \\\n",
              "0      Well knew. This morning police need your help   \n",
              "1   a call. San Francisco firefighters rescued a man   \n",
              "2         Paul. Meanwhile, the state set a record in   \n",
              "3  Emergency crews in Florida continue to search for   \n",
              "4    But even though the state never ordered rolling   \n",
              "\n",
              "                                          last_words  source_video_id  \\\n",
              "0  gunpoint, beating him and stealing his cell ph...            18246   \n",
              "1                     all the way down to the ocean.            12387   \n",
              "2  night through conservation, some 4000 conserva...            16859   \n",
              "3            in Florida to more than 850,000 homes.             18246   \n",
              "4     feel since their power got cut out needlessly.            16859   \n",
              "\n",
              "                                                body   start     end  \n",
              "0  Well knew. This morning police need your help ...  464928  503712  \n",
              "1  a call. San Francisco firefighters rescued a m...  359020  384184  \n",
              "2  Paul. Meanwhile, the state set a record in ene...   60704   99404  \n",
              "3  Emergency crews in Florida continue to search ...  505290  533736  \n",
              "4  But even though the state never ordered rollin...  100910  282596  "
            ],
            "text/html": [
              "\n",
              "  <div id=\"df-e58b01bf-e745-47e8-9286-3e68ea62e48b\">\n",
              "    <div class=\"colab-df-container\">\n",
              "      <div>\n",
              "<style scoped>\n",
              "    .dataframe tbody tr th:only-of-type {\n",
              "        vertical-align: middle;\n",
              "    }\n",
              "\n",
              "    .dataframe tbody tr th {\n",
              "        vertical-align: top;\n",
              "    }\n",
              "\n",
              "    .dataframe thead th {\n",
              "        text-align: right;\n",
              "    }\n",
              "</style>\n",
              "<table border=\"1\" class=\"dataframe\">\n",
              "  <thead>\n",
              "    <tr style=\"text-align: right;\">\n",
              "      <th></th>\n",
              "      <th>first_words</th>\n",
              "      <th>last_words</th>\n",
              "      <th>source_video_id</th>\n",
              "      <th>body</th>\n",
              "      <th>start</th>\n",
              "      <th>end</th>\n",
              "    </tr>\n",
              "  </thead>\n",
              "  <tbody>\n",
              "    <tr>\n",
              "      <th>0</th>\n",
              "      <td>Well knew. This morning police need your help</td>\n",
              "      <td>gunpoint, beating him and stealing his cell ph...</td>\n",
              "      <td>18246</td>\n",
              "      <td>Well knew. This morning police need your help ...</td>\n",
              "      <td>464928</td>\n",
              "      <td>503712</td>\n",
              "    </tr>\n",
              "    <tr>\n",
              "      <th>1</th>\n",
              "      <td>a call. San Francisco firefighters rescued a man</td>\n",
              "      <td>all the way down to the ocean.</td>\n",
              "      <td>12387</td>\n",
              "      <td>a call. San Francisco firefighters rescued a m...</td>\n",
              "      <td>359020</td>\n",
              "      <td>384184</td>\n",
              "    </tr>\n",
              "    <tr>\n",
              "      <th>2</th>\n",
              "      <td>Paul. Meanwhile, the state set a record in</td>\n",
              "      <td>night through conservation, some 4000 conserva...</td>\n",
              "      <td>16859</td>\n",
              "      <td>Paul. Meanwhile, the state set a record in ene...</td>\n",
              "      <td>60704</td>\n",
              "      <td>99404</td>\n",
              "    </tr>\n",
              "    <tr>\n",
              "      <th>3</th>\n",
              "      <td>Emergency crews in Florida continue to search for</td>\n",
              "      <td>in Florida to more than 850,000 homes.</td>\n",
              "      <td>18246</td>\n",
              "      <td>Emergency crews in Florida continue to search ...</td>\n",
              "      <td>505290</td>\n",
              "      <td>533736</td>\n",
              "    </tr>\n",
              "    <tr>\n",
              "      <th>4</th>\n",
              "      <td>But even though the state never ordered rolling</td>\n",
              "      <td>feel since their power got cut out needlessly.</td>\n",
              "      <td>16859</td>\n",
              "      <td>But even though the state never ordered rollin...</td>\n",
              "      <td>100910</td>\n",
              "      <td>282596</td>\n",
              "    </tr>\n",
              "  </tbody>\n",
              "</table>\n",
              "</div>\n",
              "      <button class=\"colab-df-convert\" onclick=\"convertToInteractive('df-e58b01bf-e745-47e8-9286-3e68ea62e48b')\"\n",
              "              title=\"Convert this dataframe to an interactive table.\"\n",
              "              style=\"display:none;\">\n",
              "        \n",
              "  <svg xmlns=\"http://www.w3.org/2000/svg\" height=\"24px\"viewBox=\"0 0 24 24\"\n",
              "       width=\"24px\">\n",
              "    <path d=\"M0 0h24v24H0V0z\" fill=\"none\"/>\n",
              "    <path d=\"M18.56 5.44l.94 2.06.94-2.06 2.06-.94-2.06-.94-.94-2.06-.94 2.06-2.06.94zm-11 1L8.5 8.5l.94-2.06 2.06-.94-2.06-.94L8.5 2.5l-.94 2.06-2.06.94zm10 10l.94 2.06.94-2.06 2.06-.94-2.06-.94-.94-2.06-.94 2.06-2.06.94z\"/><path d=\"M17.41 7.96l-1.37-1.37c-.4-.4-.92-.59-1.43-.59-.52 0-1.04.2-1.43.59L10.3 9.45l-7.72 7.72c-.78.78-.78 2.05 0 2.83L4 21.41c.39.39.9.59 1.41.59.51 0 1.02-.2 1.41-.59l7.78-7.78 2.81-2.81c.8-.78.8-2.07 0-2.86zM5.41 20L4 18.59l7.72-7.72 1.47 1.35L5.41 20z\"/>\n",
              "  </svg>\n",
              "      </button>\n",
              "      \n",
              "  <style>\n",
              "    .colab-df-container {\n",
              "      display:flex;\n",
              "      flex-wrap:wrap;\n",
              "      gap: 12px;\n",
              "    }\n",
              "\n",
              "    .colab-df-convert {\n",
              "      background-color: #E8F0FE;\n",
              "      border: none;\n",
              "      border-radius: 50%;\n",
              "      cursor: pointer;\n",
              "      display: none;\n",
              "      fill: #1967D2;\n",
              "      height: 32px;\n",
              "      padding: 0 0 0 0;\n",
              "      width: 32px;\n",
              "    }\n",
              "\n",
              "    .colab-df-convert:hover {\n",
              "      background-color: #E2EBFA;\n",
              "      box-shadow: 0px 1px 2px rgba(60, 64, 67, 0.3), 0px 1px 3px 1px rgba(60, 64, 67, 0.15);\n",
              "      fill: #174EA6;\n",
              "    }\n",
              "\n",
              "    [theme=dark] .colab-df-convert {\n",
              "      background-color: #3B4455;\n",
              "      fill: #D2E3FC;\n",
              "    }\n",
              "\n",
              "    [theme=dark] .colab-df-convert:hover {\n",
              "      background-color: #434B5C;\n",
              "      box-shadow: 0px 1px 3px 1px rgba(0, 0, 0, 0.15);\n",
              "      filter: drop-shadow(0px 1px 2px rgba(0, 0, 0, 0.3));\n",
              "      fill: #FFFFFF;\n",
              "    }\n",
              "  </style>\n",
              "\n",
              "      <script>\n",
              "        const buttonEl =\n",
              "          document.querySelector('#df-e58b01bf-e745-47e8-9286-3e68ea62e48b button.colab-df-convert');\n",
              "        buttonEl.style.display =\n",
              "          google.colab.kernel.accessAllowed ? 'block' : 'none';\n",
              "\n",
              "        async function convertToInteractive(key) {\n",
              "          const element = document.querySelector('#df-e58b01bf-e745-47e8-9286-3e68ea62e48b');\n",
              "          const dataTable =\n",
              "            await google.colab.kernel.invokeFunction('convertToInteractive',\n",
              "                                                     [key], {});\n",
              "          if (!dataTable) return;\n",
              "\n",
              "          const docLinkHtml = 'Like what you see? Visit the ' +\n",
              "            '<a target=\"_blank\" href=https://colab.research.google.com/notebooks/data_table.ipynb>data table notebook</a>'\n",
              "            + ' to learn more about interactive tables.';\n",
              "          element.innerHTML = '';\n",
              "          dataTable['output_type'] = 'display_data';\n",
              "          await google.colab.output.renderOutput(dataTable, element);\n",
              "          const docLink = document.createElement('div');\n",
              "          docLink.innerHTML = docLinkHtml;\n",
              "          element.appendChild(docLink);\n",
              "        }\n",
              "      </script>\n",
              "    </div>\n",
              "  </div>\n",
              "  "
            ]
          },
          "metadata": {},
          "execution_count": 34
        }
      ],
      "source": [
        "to_fill.head()"
      ]
    },
    {
      "cell_type": "code",
      "execution_count": 35,
      "metadata": {
        "id": "yxkgSpdP7t0I"
      },
      "outputs": [],
      "source": [
        "to_fill['topic'] = to_fill.apply(lambda row : encode_predictions(row[3]),axis=1)"
      ]
    },
    {
      "cell_type": "code",
      "execution_count": 36,
      "metadata": {
        "id": "mHsVFN-AMDCS"
      },
      "outputs": [],
      "source": [
        "to_fill.to_csv('/content/filled.csv')"
      ]
    }
  ],
  "metadata": {
    "accelerator": "GPU",
    "colab": {
      "gpuType": "T4",
      "provenance": [],
      "include_colab_link": true
    },
    "gpuClass": "standard",
    "kernelspec": {
      "display_name": "Python 3",
      "name": "python3"
    },
    "language_info": {
      "name": "python"
    },
    "widgets": {
      "application/vnd.jupyter.widget-state+json": {
        "ac6b07061fd8429c87b4b643212c3a29": {
          "model_module": "@jupyter-widgets/controls",
          "model_name": "HBoxModel",
          "model_module_version": "1.5.0",
          "state": {
            "_dom_classes": [],
            "_model_module": "@jupyter-widgets/controls",
            "_model_module_version": "1.5.0",
            "_model_name": "HBoxModel",
            "_view_count": null,
            "_view_module": "@jupyter-widgets/controls",
            "_view_module_version": "1.5.0",
            "_view_name": "HBoxView",
            "box_style": "",
            "children": [
              "IPY_MODEL_5f069e86f13d4a88bca45a29eda390f2",
              "IPY_MODEL_b4ee47977fe3426e8ec6441f7d3c34e0",
              "IPY_MODEL_3ebf83946e304b0d89fda29e1c7d8cba"
            ],
            "layout": "IPY_MODEL_da424ed9726847269e7601f260467cb2"
          }
        },
        "5f069e86f13d4a88bca45a29eda390f2": {
          "model_module": "@jupyter-widgets/controls",
          "model_name": "HTMLModel",
          "model_module_version": "1.5.0",
          "state": {
            "_dom_classes": [],
            "_model_module": "@jupyter-widgets/controls",
            "_model_module_version": "1.5.0",
            "_model_name": "HTMLModel",
            "_view_count": null,
            "_view_module": "@jupyter-widgets/controls",
            "_view_module_version": "1.5.0",
            "_view_name": "HTMLView",
            "description": "",
            "description_tooltip": null,
            "layout": "IPY_MODEL_9c596a1c4a4d42df8d4bbbb1a6d2d8df",
            "placeholder": "​",
            "style": "IPY_MODEL_d058d869c39d4f169d99bcf88759138e",
            "value": "Downloading (…)okenizer_config.json: 100%"
          }
        },
        "b4ee47977fe3426e8ec6441f7d3c34e0": {
          "model_module": "@jupyter-widgets/controls",
          "model_name": "FloatProgressModel",
          "model_module_version": "1.5.0",
          "state": {
            "_dom_classes": [],
            "_model_module": "@jupyter-widgets/controls",
            "_model_module_version": "1.5.0",
            "_model_name": "FloatProgressModel",
            "_view_count": null,
            "_view_module": "@jupyter-widgets/controls",
            "_view_module_version": "1.5.0",
            "_view_name": "ProgressView",
            "bar_style": "success",
            "description": "",
            "description_tooltip": null,
            "layout": "IPY_MODEL_b5120eb3bb1845a79638e943b0683cbd",
            "max": 28,
            "min": 0,
            "orientation": "horizontal",
            "style": "IPY_MODEL_2289ed5d3ae1402d89f2d7f6c6ac01f3",
            "value": 28
          }
        },
        "3ebf83946e304b0d89fda29e1c7d8cba": {
          "model_module": "@jupyter-widgets/controls",
          "model_name": "HTMLModel",
          "model_module_version": "1.5.0",
          "state": {
            "_dom_classes": [],
            "_model_module": "@jupyter-widgets/controls",
            "_model_module_version": "1.5.0",
            "_model_name": "HTMLModel",
            "_view_count": null,
            "_view_module": "@jupyter-widgets/controls",
            "_view_module_version": "1.5.0",
            "_view_name": "HTMLView",
            "description": "",
            "description_tooltip": null,
            "layout": "IPY_MODEL_5cffaca7d9bd4a9585456ac5cf3eb954",
            "placeholder": "​",
            "style": "IPY_MODEL_b973ab841a7540fe939a98c571091e20",
            "value": " 28.0/28.0 [00:00&lt;00:00, 1.89kB/s]"
          }
        },
        "da424ed9726847269e7601f260467cb2": {
          "model_module": "@jupyter-widgets/base",
          "model_name": "LayoutModel",
          "model_module_version": "1.2.0",
          "state": {
            "_model_module": "@jupyter-widgets/base",
            "_model_module_version": "1.2.0",
            "_model_name": "LayoutModel",
            "_view_count": null,
            "_view_module": "@jupyter-widgets/base",
            "_view_module_version": "1.2.0",
            "_view_name": "LayoutView",
            "align_content": null,
            "align_items": null,
            "align_self": null,
            "border": null,
            "bottom": null,
            "display": null,
            "flex": null,
            "flex_flow": null,
            "grid_area": null,
            "grid_auto_columns": null,
            "grid_auto_flow": null,
            "grid_auto_rows": null,
            "grid_column": null,
            "grid_gap": null,
            "grid_row": null,
            "grid_template_areas": null,
            "grid_template_columns": null,
            "grid_template_rows": null,
            "height": null,
            "justify_content": null,
            "justify_items": null,
            "left": null,
            "margin": null,
            "max_height": null,
            "max_width": null,
            "min_height": null,
            "min_width": null,
            "object_fit": null,
            "object_position": null,
            "order": null,
            "overflow": null,
            "overflow_x": null,
            "overflow_y": null,
            "padding": null,
            "right": null,
            "top": null,
            "visibility": null,
            "width": null
          }
        },
        "9c596a1c4a4d42df8d4bbbb1a6d2d8df": {
          "model_module": "@jupyter-widgets/base",
          "model_name": "LayoutModel",
          "model_module_version": "1.2.0",
          "state": {
            "_model_module": "@jupyter-widgets/base",
            "_model_module_version": "1.2.0",
            "_model_name": "LayoutModel",
            "_view_count": null,
            "_view_module": "@jupyter-widgets/base",
            "_view_module_version": "1.2.0",
            "_view_name": "LayoutView",
            "align_content": null,
            "align_items": null,
            "align_self": null,
            "border": null,
            "bottom": null,
            "display": null,
            "flex": null,
            "flex_flow": null,
            "grid_area": null,
            "grid_auto_columns": null,
            "grid_auto_flow": null,
            "grid_auto_rows": null,
            "grid_column": null,
            "grid_gap": null,
            "grid_row": null,
            "grid_template_areas": null,
            "grid_template_columns": null,
            "grid_template_rows": null,
            "height": null,
            "justify_content": null,
            "justify_items": null,
            "left": null,
            "margin": null,
            "max_height": null,
            "max_width": null,
            "min_height": null,
            "min_width": null,
            "object_fit": null,
            "object_position": null,
            "order": null,
            "overflow": null,
            "overflow_x": null,
            "overflow_y": null,
            "padding": null,
            "right": null,
            "top": null,
            "visibility": null,
            "width": null
          }
        },
        "d058d869c39d4f169d99bcf88759138e": {
          "model_module": "@jupyter-widgets/controls",
          "model_name": "DescriptionStyleModel",
          "model_module_version": "1.5.0",
          "state": {
            "_model_module": "@jupyter-widgets/controls",
            "_model_module_version": "1.5.0",
            "_model_name": "DescriptionStyleModel",
            "_view_count": null,
            "_view_module": "@jupyter-widgets/base",
            "_view_module_version": "1.2.0",
            "_view_name": "StyleView",
            "description_width": ""
          }
        },
        "b5120eb3bb1845a79638e943b0683cbd": {
          "model_module": "@jupyter-widgets/base",
          "model_name": "LayoutModel",
          "model_module_version": "1.2.0",
          "state": {
            "_model_module": "@jupyter-widgets/base",
            "_model_module_version": "1.2.0",
            "_model_name": "LayoutModel",
            "_view_count": null,
            "_view_module": "@jupyter-widgets/base",
            "_view_module_version": "1.2.0",
            "_view_name": "LayoutView",
            "align_content": null,
            "align_items": null,
            "align_self": null,
            "border": null,
            "bottom": null,
            "display": null,
            "flex": null,
            "flex_flow": null,
            "grid_area": null,
            "grid_auto_columns": null,
            "grid_auto_flow": null,
            "grid_auto_rows": null,
            "grid_column": null,
            "grid_gap": null,
            "grid_row": null,
            "grid_template_areas": null,
            "grid_template_columns": null,
            "grid_template_rows": null,
            "height": null,
            "justify_content": null,
            "justify_items": null,
            "left": null,
            "margin": null,
            "max_height": null,
            "max_width": null,
            "min_height": null,
            "min_width": null,
            "object_fit": null,
            "object_position": null,
            "order": null,
            "overflow": null,
            "overflow_x": null,
            "overflow_y": null,
            "padding": null,
            "right": null,
            "top": null,
            "visibility": null,
            "width": null
          }
        },
        "2289ed5d3ae1402d89f2d7f6c6ac01f3": {
          "model_module": "@jupyter-widgets/controls",
          "model_name": "ProgressStyleModel",
          "model_module_version": "1.5.0",
          "state": {
            "_model_module": "@jupyter-widgets/controls",
            "_model_module_version": "1.5.0",
            "_model_name": "ProgressStyleModel",
            "_view_count": null,
            "_view_module": "@jupyter-widgets/base",
            "_view_module_version": "1.2.0",
            "_view_name": "StyleView",
            "bar_color": null,
            "description_width": ""
          }
        },
        "5cffaca7d9bd4a9585456ac5cf3eb954": {
          "model_module": "@jupyter-widgets/base",
          "model_name": "LayoutModel",
          "model_module_version": "1.2.0",
          "state": {
            "_model_module": "@jupyter-widgets/base",
            "_model_module_version": "1.2.0",
            "_model_name": "LayoutModel",
            "_view_count": null,
            "_view_module": "@jupyter-widgets/base",
            "_view_module_version": "1.2.0",
            "_view_name": "LayoutView",
            "align_content": null,
            "align_items": null,
            "align_self": null,
            "border": null,
            "bottom": null,
            "display": null,
            "flex": null,
            "flex_flow": null,
            "grid_area": null,
            "grid_auto_columns": null,
            "grid_auto_flow": null,
            "grid_auto_rows": null,
            "grid_column": null,
            "grid_gap": null,
            "grid_row": null,
            "grid_template_areas": null,
            "grid_template_columns": null,
            "grid_template_rows": null,
            "height": null,
            "justify_content": null,
            "justify_items": null,
            "left": null,
            "margin": null,
            "max_height": null,
            "max_width": null,
            "min_height": null,
            "min_width": null,
            "object_fit": null,
            "object_position": null,
            "order": null,
            "overflow": null,
            "overflow_x": null,
            "overflow_y": null,
            "padding": null,
            "right": null,
            "top": null,
            "visibility": null,
            "width": null
          }
        },
        "b973ab841a7540fe939a98c571091e20": {
          "model_module": "@jupyter-widgets/controls",
          "model_name": "DescriptionStyleModel",
          "model_module_version": "1.5.0",
          "state": {
            "_model_module": "@jupyter-widgets/controls",
            "_model_module_version": "1.5.0",
            "_model_name": "DescriptionStyleModel",
            "_view_count": null,
            "_view_module": "@jupyter-widgets/base",
            "_view_module_version": "1.2.0",
            "_view_name": "StyleView",
            "description_width": ""
          }
        },
        "1546baeee03d4a8b8975042a25bac225": {
          "model_module": "@jupyter-widgets/controls",
          "model_name": "HBoxModel",
          "model_module_version": "1.5.0",
          "state": {
            "_dom_classes": [],
            "_model_module": "@jupyter-widgets/controls",
            "_model_module_version": "1.5.0",
            "_model_name": "HBoxModel",
            "_view_count": null,
            "_view_module": "@jupyter-widgets/controls",
            "_view_module_version": "1.5.0",
            "_view_name": "HBoxView",
            "box_style": "",
            "children": [
              "IPY_MODEL_407ea22ecc0c419082889b256e241dab",
              "IPY_MODEL_3d266fd37dd34c73b8b4fae9edc4b69a",
              "IPY_MODEL_9cdea678af7f48afa0e0ac1edff94bb0"
            ],
            "layout": "IPY_MODEL_c7d9b45845884b83a10def6459931486"
          }
        },
        "407ea22ecc0c419082889b256e241dab": {
          "model_module": "@jupyter-widgets/controls",
          "model_name": "HTMLModel",
          "model_module_version": "1.5.0",
          "state": {
            "_dom_classes": [],
            "_model_module": "@jupyter-widgets/controls",
            "_model_module_version": "1.5.0",
            "_model_name": "HTMLModel",
            "_view_count": null,
            "_view_module": "@jupyter-widgets/controls",
            "_view_module_version": "1.5.0",
            "_view_name": "HTMLView",
            "description": "",
            "description_tooltip": null,
            "layout": "IPY_MODEL_d684c3bff78d4badba37dbc1fc0bd0d2",
            "placeholder": "​",
            "style": "IPY_MODEL_2bf90903ceba473082bd30b26c052758",
            "value": "Downloading (…)lve/main/config.json: 100%"
          }
        },
        "3d266fd37dd34c73b8b4fae9edc4b69a": {
          "model_module": "@jupyter-widgets/controls",
          "model_name": "FloatProgressModel",
          "model_module_version": "1.5.0",
          "state": {
            "_dom_classes": [],
            "_model_module": "@jupyter-widgets/controls",
            "_model_module_version": "1.5.0",
            "_model_name": "FloatProgressModel",
            "_view_count": null,
            "_view_module": "@jupyter-widgets/controls",
            "_view_module_version": "1.5.0",
            "_view_name": "ProgressView",
            "bar_style": "success",
            "description": "",
            "description_tooltip": null,
            "layout": "IPY_MODEL_090008ce75df4bdb9c7ceb6f9d5983b2",
            "max": 570,
            "min": 0,
            "orientation": "horizontal",
            "style": "IPY_MODEL_00c8e9904170412483a8dcd90f38bdd8",
            "value": 570
          }
        },
        "9cdea678af7f48afa0e0ac1edff94bb0": {
          "model_module": "@jupyter-widgets/controls",
          "model_name": "HTMLModel",
          "model_module_version": "1.5.0",
          "state": {
            "_dom_classes": [],
            "_model_module": "@jupyter-widgets/controls",
            "_model_module_version": "1.5.0",
            "_model_name": "HTMLModel",
            "_view_count": null,
            "_view_module": "@jupyter-widgets/controls",
            "_view_module_version": "1.5.0",
            "_view_name": "HTMLView",
            "description": "",
            "description_tooltip": null,
            "layout": "IPY_MODEL_be33fada67ac48a29f51c3abc08b22b6",
            "placeholder": "​",
            "style": "IPY_MODEL_dab6315657a04289ae26c79f0077fb6c",
            "value": " 570/570 [00:00&lt;00:00, 33.4kB/s]"
          }
        },
        "c7d9b45845884b83a10def6459931486": {
          "model_module": "@jupyter-widgets/base",
          "model_name": "LayoutModel",
          "model_module_version": "1.2.0",
          "state": {
            "_model_module": "@jupyter-widgets/base",
            "_model_module_version": "1.2.0",
            "_model_name": "LayoutModel",
            "_view_count": null,
            "_view_module": "@jupyter-widgets/base",
            "_view_module_version": "1.2.0",
            "_view_name": "LayoutView",
            "align_content": null,
            "align_items": null,
            "align_self": null,
            "border": null,
            "bottom": null,
            "display": null,
            "flex": null,
            "flex_flow": null,
            "grid_area": null,
            "grid_auto_columns": null,
            "grid_auto_flow": null,
            "grid_auto_rows": null,
            "grid_column": null,
            "grid_gap": null,
            "grid_row": null,
            "grid_template_areas": null,
            "grid_template_columns": null,
            "grid_template_rows": null,
            "height": null,
            "justify_content": null,
            "justify_items": null,
            "left": null,
            "margin": null,
            "max_height": null,
            "max_width": null,
            "min_height": null,
            "min_width": null,
            "object_fit": null,
            "object_position": null,
            "order": null,
            "overflow": null,
            "overflow_x": null,
            "overflow_y": null,
            "padding": null,
            "right": null,
            "top": null,
            "visibility": null,
            "width": null
          }
        },
        "d684c3bff78d4badba37dbc1fc0bd0d2": {
          "model_module": "@jupyter-widgets/base",
          "model_name": "LayoutModel",
          "model_module_version": "1.2.0",
          "state": {
            "_model_module": "@jupyter-widgets/base",
            "_model_module_version": "1.2.0",
            "_model_name": "LayoutModel",
            "_view_count": null,
            "_view_module": "@jupyter-widgets/base",
            "_view_module_version": "1.2.0",
            "_view_name": "LayoutView",
            "align_content": null,
            "align_items": null,
            "align_self": null,
            "border": null,
            "bottom": null,
            "display": null,
            "flex": null,
            "flex_flow": null,
            "grid_area": null,
            "grid_auto_columns": null,
            "grid_auto_flow": null,
            "grid_auto_rows": null,
            "grid_column": null,
            "grid_gap": null,
            "grid_row": null,
            "grid_template_areas": null,
            "grid_template_columns": null,
            "grid_template_rows": null,
            "height": null,
            "justify_content": null,
            "justify_items": null,
            "left": null,
            "margin": null,
            "max_height": null,
            "max_width": null,
            "min_height": null,
            "min_width": null,
            "object_fit": null,
            "object_position": null,
            "order": null,
            "overflow": null,
            "overflow_x": null,
            "overflow_y": null,
            "padding": null,
            "right": null,
            "top": null,
            "visibility": null,
            "width": null
          }
        },
        "2bf90903ceba473082bd30b26c052758": {
          "model_module": "@jupyter-widgets/controls",
          "model_name": "DescriptionStyleModel",
          "model_module_version": "1.5.0",
          "state": {
            "_model_module": "@jupyter-widgets/controls",
            "_model_module_version": "1.5.0",
            "_model_name": "DescriptionStyleModel",
            "_view_count": null,
            "_view_module": "@jupyter-widgets/base",
            "_view_module_version": "1.2.0",
            "_view_name": "StyleView",
            "description_width": ""
          }
        },
        "090008ce75df4bdb9c7ceb6f9d5983b2": {
          "model_module": "@jupyter-widgets/base",
          "model_name": "LayoutModel",
          "model_module_version": "1.2.0",
          "state": {
            "_model_module": "@jupyter-widgets/base",
            "_model_module_version": "1.2.0",
            "_model_name": "LayoutModel",
            "_view_count": null,
            "_view_module": "@jupyter-widgets/base",
            "_view_module_version": "1.2.0",
            "_view_name": "LayoutView",
            "align_content": null,
            "align_items": null,
            "align_self": null,
            "border": null,
            "bottom": null,
            "display": null,
            "flex": null,
            "flex_flow": null,
            "grid_area": null,
            "grid_auto_columns": null,
            "grid_auto_flow": null,
            "grid_auto_rows": null,
            "grid_column": null,
            "grid_gap": null,
            "grid_row": null,
            "grid_template_areas": null,
            "grid_template_columns": null,
            "grid_template_rows": null,
            "height": null,
            "justify_content": null,
            "justify_items": null,
            "left": null,
            "margin": null,
            "max_height": null,
            "max_width": null,
            "min_height": null,
            "min_width": null,
            "object_fit": null,
            "object_position": null,
            "order": null,
            "overflow": null,
            "overflow_x": null,
            "overflow_y": null,
            "padding": null,
            "right": null,
            "top": null,
            "visibility": null,
            "width": null
          }
        },
        "00c8e9904170412483a8dcd90f38bdd8": {
          "model_module": "@jupyter-widgets/controls",
          "model_name": "ProgressStyleModel",
          "model_module_version": "1.5.0",
          "state": {
            "_model_module": "@jupyter-widgets/controls",
            "_model_module_version": "1.5.0",
            "_model_name": "ProgressStyleModel",
            "_view_count": null,
            "_view_module": "@jupyter-widgets/base",
            "_view_module_version": "1.2.0",
            "_view_name": "StyleView",
            "bar_color": null,
            "description_width": ""
          }
        },
        "be33fada67ac48a29f51c3abc08b22b6": {
          "model_module": "@jupyter-widgets/base",
          "model_name": "LayoutModel",
          "model_module_version": "1.2.0",
          "state": {
            "_model_module": "@jupyter-widgets/base",
            "_model_module_version": "1.2.0",
            "_model_name": "LayoutModel",
            "_view_count": null,
            "_view_module": "@jupyter-widgets/base",
            "_view_module_version": "1.2.0",
            "_view_name": "LayoutView",
            "align_content": null,
            "align_items": null,
            "align_self": null,
            "border": null,
            "bottom": null,
            "display": null,
            "flex": null,
            "flex_flow": null,
            "grid_area": null,
            "grid_auto_columns": null,
            "grid_auto_flow": null,
            "grid_auto_rows": null,
            "grid_column": null,
            "grid_gap": null,
            "grid_row": null,
            "grid_template_areas": null,
            "grid_template_columns": null,
            "grid_template_rows": null,
            "height": null,
            "justify_content": null,
            "justify_items": null,
            "left": null,
            "margin": null,
            "max_height": null,
            "max_width": null,
            "min_height": null,
            "min_width": null,
            "object_fit": null,
            "object_position": null,
            "order": null,
            "overflow": null,
            "overflow_x": null,
            "overflow_y": null,
            "padding": null,
            "right": null,
            "top": null,
            "visibility": null,
            "width": null
          }
        },
        "dab6315657a04289ae26c79f0077fb6c": {
          "model_module": "@jupyter-widgets/controls",
          "model_name": "DescriptionStyleModel",
          "model_module_version": "1.5.0",
          "state": {
            "_model_module": "@jupyter-widgets/controls",
            "_model_module_version": "1.5.0",
            "_model_name": "DescriptionStyleModel",
            "_view_count": null,
            "_view_module": "@jupyter-widgets/base",
            "_view_module_version": "1.2.0",
            "_view_name": "StyleView",
            "description_width": ""
          }
        },
        "78246bda080c4456bce2dba5ffa01b64": {
          "model_module": "@jupyter-widgets/controls",
          "model_name": "HBoxModel",
          "model_module_version": "1.5.0",
          "state": {
            "_dom_classes": [],
            "_model_module": "@jupyter-widgets/controls",
            "_model_module_version": "1.5.0",
            "_model_name": "HBoxModel",
            "_view_count": null,
            "_view_module": "@jupyter-widgets/controls",
            "_view_module_version": "1.5.0",
            "_view_name": "HBoxView",
            "box_style": "",
            "children": [
              "IPY_MODEL_3b2b1eccd68846388eee574825531649",
              "IPY_MODEL_adffb47715924a619161e7e2af480fbc",
              "IPY_MODEL_373c47b0055d40ea929e259a079b19c9"
            ],
            "layout": "IPY_MODEL_e3ac87432851418ba624ec29ca353d51"
          }
        },
        "3b2b1eccd68846388eee574825531649": {
          "model_module": "@jupyter-widgets/controls",
          "model_name": "HTMLModel",
          "model_module_version": "1.5.0",
          "state": {
            "_dom_classes": [],
            "_model_module": "@jupyter-widgets/controls",
            "_model_module_version": "1.5.0",
            "_model_name": "HTMLModel",
            "_view_count": null,
            "_view_module": "@jupyter-widgets/controls",
            "_view_module_version": "1.5.0",
            "_view_name": "HTMLView",
            "description": "",
            "description_tooltip": null,
            "layout": "IPY_MODEL_cc054a5021ea446695e003f05e098c42",
            "placeholder": "​",
            "style": "IPY_MODEL_b84433b923054f43aee3688b4410a73a",
            "value": "Downloading (…)solve/main/vocab.txt: 100%"
          }
        },
        "adffb47715924a619161e7e2af480fbc": {
          "model_module": "@jupyter-widgets/controls",
          "model_name": "FloatProgressModel",
          "model_module_version": "1.5.0",
          "state": {
            "_dom_classes": [],
            "_model_module": "@jupyter-widgets/controls",
            "_model_module_version": "1.5.0",
            "_model_name": "FloatProgressModel",
            "_view_count": null,
            "_view_module": "@jupyter-widgets/controls",
            "_view_module_version": "1.5.0",
            "_view_name": "ProgressView",
            "bar_style": "success",
            "description": "",
            "description_tooltip": null,
            "layout": "IPY_MODEL_87bdcfe751414e3d9963b00edc39ceb4",
            "max": 231508,
            "min": 0,
            "orientation": "horizontal",
            "style": "IPY_MODEL_4f727f3fc3414e6f8c997b877e8fb348",
            "value": 231508
          }
        },
        "373c47b0055d40ea929e259a079b19c9": {
          "model_module": "@jupyter-widgets/controls",
          "model_name": "HTMLModel",
          "model_module_version": "1.5.0",
          "state": {
            "_dom_classes": [],
            "_model_module": "@jupyter-widgets/controls",
            "_model_module_version": "1.5.0",
            "_model_name": "HTMLModel",
            "_view_count": null,
            "_view_module": "@jupyter-widgets/controls",
            "_view_module_version": "1.5.0",
            "_view_name": "HTMLView",
            "description": "",
            "description_tooltip": null,
            "layout": "IPY_MODEL_04b06878c0f7447c8f1a01c777a406f4",
            "placeholder": "​",
            "style": "IPY_MODEL_be34316c053042ec8f092a64026a2e9a",
            "value": " 232k/232k [00:00&lt;00:00, 1.92MB/s]"
          }
        },
        "e3ac87432851418ba624ec29ca353d51": {
          "model_module": "@jupyter-widgets/base",
          "model_name": "LayoutModel",
          "model_module_version": "1.2.0",
          "state": {
            "_model_module": "@jupyter-widgets/base",
            "_model_module_version": "1.2.0",
            "_model_name": "LayoutModel",
            "_view_count": null,
            "_view_module": "@jupyter-widgets/base",
            "_view_module_version": "1.2.0",
            "_view_name": "LayoutView",
            "align_content": null,
            "align_items": null,
            "align_self": null,
            "border": null,
            "bottom": null,
            "display": null,
            "flex": null,
            "flex_flow": null,
            "grid_area": null,
            "grid_auto_columns": null,
            "grid_auto_flow": null,
            "grid_auto_rows": null,
            "grid_column": null,
            "grid_gap": null,
            "grid_row": null,
            "grid_template_areas": null,
            "grid_template_columns": null,
            "grid_template_rows": null,
            "height": null,
            "justify_content": null,
            "justify_items": null,
            "left": null,
            "margin": null,
            "max_height": null,
            "max_width": null,
            "min_height": null,
            "min_width": null,
            "object_fit": null,
            "object_position": null,
            "order": null,
            "overflow": null,
            "overflow_x": null,
            "overflow_y": null,
            "padding": null,
            "right": null,
            "top": null,
            "visibility": null,
            "width": null
          }
        },
        "cc054a5021ea446695e003f05e098c42": {
          "model_module": "@jupyter-widgets/base",
          "model_name": "LayoutModel",
          "model_module_version": "1.2.0",
          "state": {
            "_model_module": "@jupyter-widgets/base",
            "_model_module_version": "1.2.0",
            "_model_name": "LayoutModel",
            "_view_count": null,
            "_view_module": "@jupyter-widgets/base",
            "_view_module_version": "1.2.0",
            "_view_name": "LayoutView",
            "align_content": null,
            "align_items": null,
            "align_self": null,
            "border": null,
            "bottom": null,
            "display": null,
            "flex": null,
            "flex_flow": null,
            "grid_area": null,
            "grid_auto_columns": null,
            "grid_auto_flow": null,
            "grid_auto_rows": null,
            "grid_column": null,
            "grid_gap": null,
            "grid_row": null,
            "grid_template_areas": null,
            "grid_template_columns": null,
            "grid_template_rows": null,
            "height": null,
            "justify_content": null,
            "justify_items": null,
            "left": null,
            "margin": null,
            "max_height": null,
            "max_width": null,
            "min_height": null,
            "min_width": null,
            "object_fit": null,
            "object_position": null,
            "order": null,
            "overflow": null,
            "overflow_x": null,
            "overflow_y": null,
            "padding": null,
            "right": null,
            "top": null,
            "visibility": null,
            "width": null
          }
        },
        "b84433b923054f43aee3688b4410a73a": {
          "model_module": "@jupyter-widgets/controls",
          "model_name": "DescriptionStyleModel",
          "model_module_version": "1.5.0",
          "state": {
            "_model_module": "@jupyter-widgets/controls",
            "_model_module_version": "1.5.0",
            "_model_name": "DescriptionStyleModel",
            "_view_count": null,
            "_view_module": "@jupyter-widgets/base",
            "_view_module_version": "1.2.0",
            "_view_name": "StyleView",
            "description_width": ""
          }
        },
        "87bdcfe751414e3d9963b00edc39ceb4": {
          "model_module": "@jupyter-widgets/base",
          "model_name": "LayoutModel",
          "model_module_version": "1.2.0",
          "state": {
            "_model_module": "@jupyter-widgets/base",
            "_model_module_version": "1.2.0",
            "_model_name": "LayoutModel",
            "_view_count": null,
            "_view_module": "@jupyter-widgets/base",
            "_view_module_version": "1.2.0",
            "_view_name": "LayoutView",
            "align_content": null,
            "align_items": null,
            "align_self": null,
            "border": null,
            "bottom": null,
            "display": null,
            "flex": null,
            "flex_flow": null,
            "grid_area": null,
            "grid_auto_columns": null,
            "grid_auto_flow": null,
            "grid_auto_rows": null,
            "grid_column": null,
            "grid_gap": null,
            "grid_row": null,
            "grid_template_areas": null,
            "grid_template_columns": null,
            "grid_template_rows": null,
            "height": null,
            "justify_content": null,
            "justify_items": null,
            "left": null,
            "margin": null,
            "max_height": null,
            "max_width": null,
            "min_height": null,
            "min_width": null,
            "object_fit": null,
            "object_position": null,
            "order": null,
            "overflow": null,
            "overflow_x": null,
            "overflow_y": null,
            "padding": null,
            "right": null,
            "top": null,
            "visibility": null,
            "width": null
          }
        },
        "4f727f3fc3414e6f8c997b877e8fb348": {
          "model_module": "@jupyter-widgets/controls",
          "model_name": "ProgressStyleModel",
          "model_module_version": "1.5.0",
          "state": {
            "_model_module": "@jupyter-widgets/controls",
            "_model_module_version": "1.5.0",
            "_model_name": "ProgressStyleModel",
            "_view_count": null,
            "_view_module": "@jupyter-widgets/base",
            "_view_module_version": "1.2.0",
            "_view_name": "StyleView",
            "bar_color": null,
            "description_width": ""
          }
        },
        "04b06878c0f7447c8f1a01c777a406f4": {
          "model_module": "@jupyter-widgets/base",
          "model_name": "LayoutModel",
          "model_module_version": "1.2.0",
          "state": {
            "_model_module": "@jupyter-widgets/base",
            "_model_module_version": "1.2.0",
            "_model_name": "LayoutModel",
            "_view_count": null,
            "_view_module": "@jupyter-widgets/base",
            "_view_module_version": "1.2.0",
            "_view_name": "LayoutView",
            "align_content": null,
            "align_items": null,
            "align_self": null,
            "border": null,
            "bottom": null,
            "display": null,
            "flex": null,
            "flex_flow": null,
            "grid_area": null,
            "grid_auto_columns": null,
            "grid_auto_flow": null,
            "grid_auto_rows": null,
            "grid_column": null,
            "grid_gap": null,
            "grid_row": null,
            "grid_template_areas": null,
            "grid_template_columns": null,
            "grid_template_rows": null,
            "height": null,
            "justify_content": null,
            "justify_items": null,
            "left": null,
            "margin": null,
            "max_height": null,
            "max_width": null,
            "min_height": null,
            "min_width": null,
            "object_fit": null,
            "object_position": null,
            "order": null,
            "overflow": null,
            "overflow_x": null,
            "overflow_y": null,
            "padding": null,
            "right": null,
            "top": null,
            "visibility": null,
            "width": null
          }
        },
        "be34316c053042ec8f092a64026a2e9a": {
          "model_module": "@jupyter-widgets/controls",
          "model_name": "DescriptionStyleModel",
          "model_module_version": "1.5.0",
          "state": {
            "_model_module": "@jupyter-widgets/controls",
            "_model_module_version": "1.5.0",
            "_model_name": "DescriptionStyleModel",
            "_view_count": null,
            "_view_module": "@jupyter-widgets/base",
            "_view_module_version": "1.2.0",
            "_view_name": "StyleView",
            "description_width": ""
          }
        },
        "1eb81b909c3d431089919916538fd9e8": {
          "model_module": "@jupyter-widgets/controls",
          "model_name": "HBoxModel",
          "model_module_version": "1.5.0",
          "state": {
            "_dom_classes": [],
            "_model_module": "@jupyter-widgets/controls",
            "_model_module_version": "1.5.0",
            "_model_name": "HBoxModel",
            "_view_count": null,
            "_view_module": "@jupyter-widgets/controls",
            "_view_module_version": "1.5.0",
            "_view_name": "HBoxView",
            "box_style": "",
            "children": [
              "IPY_MODEL_f738b43d184741338c2d55c4a0f0b9f7",
              "IPY_MODEL_7dc9d01286de4b81b898e9ec6a82b073",
              "IPY_MODEL_2748daafcb1a4aecbcd65f0aa67f2997"
            ],
            "layout": "IPY_MODEL_7eaea71661cc4bfc87dcdf9d910ec363"
          }
        },
        "f738b43d184741338c2d55c4a0f0b9f7": {
          "model_module": "@jupyter-widgets/controls",
          "model_name": "HTMLModel",
          "model_module_version": "1.5.0",
          "state": {
            "_dom_classes": [],
            "_model_module": "@jupyter-widgets/controls",
            "_model_module_version": "1.5.0",
            "_model_name": "HTMLModel",
            "_view_count": null,
            "_view_module": "@jupyter-widgets/controls",
            "_view_module_version": "1.5.0",
            "_view_name": "HTMLView",
            "description": "",
            "description_tooltip": null,
            "layout": "IPY_MODEL_37b7b41261714d11ba65ae396f56c439",
            "placeholder": "​",
            "style": "IPY_MODEL_1cd3af114ee2463786b7649d333b5dc4",
            "value": "Downloading (…)/main/tokenizer.json: 100%"
          }
        },
        "7dc9d01286de4b81b898e9ec6a82b073": {
          "model_module": "@jupyter-widgets/controls",
          "model_name": "FloatProgressModel",
          "model_module_version": "1.5.0",
          "state": {
            "_dom_classes": [],
            "_model_module": "@jupyter-widgets/controls",
            "_model_module_version": "1.5.0",
            "_model_name": "FloatProgressModel",
            "_view_count": null,
            "_view_module": "@jupyter-widgets/controls",
            "_view_module_version": "1.5.0",
            "_view_name": "ProgressView",
            "bar_style": "success",
            "description": "",
            "description_tooltip": null,
            "layout": "IPY_MODEL_549a1a8b6aca4519baf7d3f515df45c5",
            "max": 466062,
            "min": 0,
            "orientation": "horizontal",
            "style": "IPY_MODEL_9c0f1872f3574c8d8298efc68328c0d0",
            "value": 466062
          }
        },
        "2748daafcb1a4aecbcd65f0aa67f2997": {
          "model_module": "@jupyter-widgets/controls",
          "model_name": "HTMLModel",
          "model_module_version": "1.5.0",
          "state": {
            "_dom_classes": [],
            "_model_module": "@jupyter-widgets/controls",
            "_model_module_version": "1.5.0",
            "_model_name": "HTMLModel",
            "_view_count": null,
            "_view_module": "@jupyter-widgets/controls",
            "_view_module_version": "1.5.0",
            "_view_name": "HTMLView",
            "description": "",
            "description_tooltip": null,
            "layout": "IPY_MODEL_6a4d4b18ad1848788de5e6ecd1246765",
            "placeholder": "​",
            "style": "IPY_MODEL_c1324bb5009e4c51943669f5a88f82a2",
            "value": " 466k/466k [00:00&lt;00:00, 2.51MB/s]"
          }
        },
        "7eaea71661cc4bfc87dcdf9d910ec363": {
          "model_module": "@jupyter-widgets/base",
          "model_name": "LayoutModel",
          "model_module_version": "1.2.0",
          "state": {
            "_model_module": "@jupyter-widgets/base",
            "_model_module_version": "1.2.0",
            "_model_name": "LayoutModel",
            "_view_count": null,
            "_view_module": "@jupyter-widgets/base",
            "_view_module_version": "1.2.0",
            "_view_name": "LayoutView",
            "align_content": null,
            "align_items": null,
            "align_self": null,
            "border": null,
            "bottom": null,
            "display": null,
            "flex": null,
            "flex_flow": null,
            "grid_area": null,
            "grid_auto_columns": null,
            "grid_auto_flow": null,
            "grid_auto_rows": null,
            "grid_column": null,
            "grid_gap": null,
            "grid_row": null,
            "grid_template_areas": null,
            "grid_template_columns": null,
            "grid_template_rows": null,
            "height": null,
            "justify_content": null,
            "justify_items": null,
            "left": null,
            "margin": null,
            "max_height": null,
            "max_width": null,
            "min_height": null,
            "min_width": null,
            "object_fit": null,
            "object_position": null,
            "order": null,
            "overflow": null,
            "overflow_x": null,
            "overflow_y": null,
            "padding": null,
            "right": null,
            "top": null,
            "visibility": null,
            "width": null
          }
        },
        "37b7b41261714d11ba65ae396f56c439": {
          "model_module": "@jupyter-widgets/base",
          "model_name": "LayoutModel",
          "model_module_version": "1.2.0",
          "state": {
            "_model_module": "@jupyter-widgets/base",
            "_model_module_version": "1.2.0",
            "_model_name": "LayoutModel",
            "_view_count": null,
            "_view_module": "@jupyter-widgets/base",
            "_view_module_version": "1.2.0",
            "_view_name": "LayoutView",
            "align_content": null,
            "align_items": null,
            "align_self": null,
            "border": null,
            "bottom": null,
            "display": null,
            "flex": null,
            "flex_flow": null,
            "grid_area": null,
            "grid_auto_columns": null,
            "grid_auto_flow": null,
            "grid_auto_rows": null,
            "grid_column": null,
            "grid_gap": null,
            "grid_row": null,
            "grid_template_areas": null,
            "grid_template_columns": null,
            "grid_template_rows": null,
            "height": null,
            "justify_content": null,
            "justify_items": null,
            "left": null,
            "margin": null,
            "max_height": null,
            "max_width": null,
            "min_height": null,
            "min_width": null,
            "object_fit": null,
            "object_position": null,
            "order": null,
            "overflow": null,
            "overflow_x": null,
            "overflow_y": null,
            "padding": null,
            "right": null,
            "top": null,
            "visibility": null,
            "width": null
          }
        },
        "1cd3af114ee2463786b7649d333b5dc4": {
          "model_module": "@jupyter-widgets/controls",
          "model_name": "DescriptionStyleModel",
          "model_module_version": "1.5.0",
          "state": {
            "_model_module": "@jupyter-widgets/controls",
            "_model_module_version": "1.5.0",
            "_model_name": "DescriptionStyleModel",
            "_view_count": null,
            "_view_module": "@jupyter-widgets/base",
            "_view_module_version": "1.2.0",
            "_view_name": "StyleView",
            "description_width": ""
          }
        },
        "549a1a8b6aca4519baf7d3f515df45c5": {
          "model_module": "@jupyter-widgets/base",
          "model_name": "LayoutModel",
          "model_module_version": "1.2.0",
          "state": {
            "_model_module": "@jupyter-widgets/base",
            "_model_module_version": "1.2.0",
            "_model_name": "LayoutModel",
            "_view_count": null,
            "_view_module": "@jupyter-widgets/base",
            "_view_module_version": "1.2.0",
            "_view_name": "LayoutView",
            "align_content": null,
            "align_items": null,
            "align_self": null,
            "border": null,
            "bottom": null,
            "display": null,
            "flex": null,
            "flex_flow": null,
            "grid_area": null,
            "grid_auto_columns": null,
            "grid_auto_flow": null,
            "grid_auto_rows": null,
            "grid_column": null,
            "grid_gap": null,
            "grid_row": null,
            "grid_template_areas": null,
            "grid_template_columns": null,
            "grid_template_rows": null,
            "height": null,
            "justify_content": null,
            "justify_items": null,
            "left": null,
            "margin": null,
            "max_height": null,
            "max_width": null,
            "min_height": null,
            "min_width": null,
            "object_fit": null,
            "object_position": null,
            "order": null,
            "overflow": null,
            "overflow_x": null,
            "overflow_y": null,
            "padding": null,
            "right": null,
            "top": null,
            "visibility": null,
            "width": null
          }
        },
        "9c0f1872f3574c8d8298efc68328c0d0": {
          "model_module": "@jupyter-widgets/controls",
          "model_name": "ProgressStyleModel",
          "model_module_version": "1.5.0",
          "state": {
            "_model_module": "@jupyter-widgets/controls",
            "_model_module_version": "1.5.0",
            "_model_name": "ProgressStyleModel",
            "_view_count": null,
            "_view_module": "@jupyter-widgets/base",
            "_view_module_version": "1.2.0",
            "_view_name": "StyleView",
            "bar_color": null,
            "description_width": ""
          }
        },
        "6a4d4b18ad1848788de5e6ecd1246765": {
          "model_module": "@jupyter-widgets/base",
          "model_name": "LayoutModel",
          "model_module_version": "1.2.0",
          "state": {
            "_model_module": "@jupyter-widgets/base",
            "_model_module_version": "1.2.0",
            "_model_name": "LayoutModel",
            "_view_count": null,
            "_view_module": "@jupyter-widgets/base",
            "_view_module_version": "1.2.0",
            "_view_name": "LayoutView",
            "align_content": null,
            "align_items": null,
            "align_self": null,
            "border": null,
            "bottom": null,
            "display": null,
            "flex": null,
            "flex_flow": null,
            "grid_area": null,
            "grid_auto_columns": null,
            "grid_auto_flow": null,
            "grid_auto_rows": null,
            "grid_column": null,
            "grid_gap": null,
            "grid_row": null,
            "grid_template_areas": null,
            "grid_template_columns": null,
            "grid_template_rows": null,
            "height": null,
            "justify_content": null,
            "justify_items": null,
            "left": null,
            "margin": null,
            "max_height": null,
            "max_width": null,
            "min_height": null,
            "min_width": null,
            "object_fit": null,
            "object_position": null,
            "order": null,
            "overflow": null,
            "overflow_x": null,
            "overflow_y": null,
            "padding": null,
            "right": null,
            "top": null,
            "visibility": null,
            "width": null
          }
        },
        "c1324bb5009e4c51943669f5a88f82a2": {
          "model_module": "@jupyter-widgets/controls",
          "model_name": "DescriptionStyleModel",
          "model_module_version": "1.5.0",
          "state": {
            "_model_module": "@jupyter-widgets/controls",
            "_model_module_version": "1.5.0",
            "_model_name": "DescriptionStyleModel",
            "_view_count": null,
            "_view_module": "@jupyter-widgets/base",
            "_view_module_version": "1.2.0",
            "_view_name": "StyleView",
            "description_width": ""
          }
        },
        "e4c8ae0f81044cdbbce603d78e51dc09": {
          "model_module": "@jupyter-widgets/controls",
          "model_name": "HBoxModel",
          "model_module_version": "1.5.0",
          "state": {
            "_dom_classes": [],
            "_model_module": "@jupyter-widgets/controls",
            "_model_module_version": "1.5.0",
            "_model_name": "HBoxModel",
            "_view_count": null,
            "_view_module": "@jupyter-widgets/controls",
            "_view_module_version": "1.5.0",
            "_view_name": "HBoxView",
            "box_style": "",
            "children": [
              "IPY_MODEL_0902b9b51f5c4b78a548090dbc3e9f27",
              "IPY_MODEL_ff13404853a74947b1cf979601d8f19c",
              "IPY_MODEL_baf67be8c18a41789f55e4697b11a867"
            ],
            "layout": "IPY_MODEL_e03fc79875d04ab4be2dd953ad9bcd9a"
          }
        },
        "0902b9b51f5c4b78a548090dbc3e9f27": {
          "model_module": "@jupyter-widgets/controls",
          "model_name": "HTMLModel",
          "model_module_version": "1.5.0",
          "state": {
            "_dom_classes": [],
            "_model_module": "@jupyter-widgets/controls",
            "_model_module_version": "1.5.0",
            "_model_name": "HTMLModel",
            "_view_count": null,
            "_view_module": "@jupyter-widgets/controls",
            "_view_module_version": "1.5.0",
            "_view_name": "HTMLView",
            "description": "",
            "description_tooltip": null,
            "layout": "IPY_MODEL_95329259fd6e4d2d81b5651a022895c9",
            "placeholder": "​",
            "style": "IPY_MODEL_1a388264fbc8430190152001c8a097e9",
            "value": "Downloading pytorch_model.bin: 100%"
          }
        },
        "ff13404853a74947b1cf979601d8f19c": {
          "model_module": "@jupyter-widgets/controls",
          "model_name": "FloatProgressModel",
          "model_module_version": "1.5.0",
          "state": {
            "_dom_classes": [],
            "_model_module": "@jupyter-widgets/controls",
            "_model_module_version": "1.5.0",
            "_model_name": "FloatProgressModel",
            "_view_count": null,
            "_view_module": "@jupyter-widgets/controls",
            "_view_module_version": "1.5.0",
            "_view_name": "ProgressView",
            "bar_style": "success",
            "description": "",
            "description_tooltip": null,
            "layout": "IPY_MODEL_79bd5e1d85da4b6498504b2def984497",
            "max": 440473133,
            "min": 0,
            "orientation": "horizontal",
            "style": "IPY_MODEL_e810e9176c0a4340b2fd618bf792c792",
            "value": 440473133
          }
        },
        "baf67be8c18a41789f55e4697b11a867": {
          "model_module": "@jupyter-widgets/controls",
          "model_name": "HTMLModel",
          "model_module_version": "1.5.0",
          "state": {
            "_dom_classes": [],
            "_model_module": "@jupyter-widgets/controls",
            "_model_module_version": "1.5.0",
            "_model_name": "HTMLModel",
            "_view_count": null,
            "_view_module": "@jupyter-widgets/controls",
            "_view_module_version": "1.5.0",
            "_view_name": "HTMLView",
            "description": "",
            "description_tooltip": null,
            "layout": "IPY_MODEL_23c27e86096c4e48a6f7fba926fdfb86",
            "placeholder": "​",
            "style": "IPY_MODEL_8ead2aff9f96427f979097c496fadd1e",
            "value": " 440M/440M [00:02&lt;00:00, 231MB/s]"
          }
        },
        "e03fc79875d04ab4be2dd953ad9bcd9a": {
          "model_module": "@jupyter-widgets/base",
          "model_name": "LayoutModel",
          "model_module_version": "1.2.0",
          "state": {
            "_model_module": "@jupyter-widgets/base",
            "_model_module_version": "1.2.0",
            "_model_name": "LayoutModel",
            "_view_count": null,
            "_view_module": "@jupyter-widgets/base",
            "_view_module_version": "1.2.0",
            "_view_name": "LayoutView",
            "align_content": null,
            "align_items": null,
            "align_self": null,
            "border": null,
            "bottom": null,
            "display": null,
            "flex": null,
            "flex_flow": null,
            "grid_area": null,
            "grid_auto_columns": null,
            "grid_auto_flow": null,
            "grid_auto_rows": null,
            "grid_column": null,
            "grid_gap": null,
            "grid_row": null,
            "grid_template_areas": null,
            "grid_template_columns": null,
            "grid_template_rows": null,
            "height": null,
            "justify_content": null,
            "justify_items": null,
            "left": null,
            "margin": null,
            "max_height": null,
            "max_width": null,
            "min_height": null,
            "min_width": null,
            "object_fit": null,
            "object_position": null,
            "order": null,
            "overflow": null,
            "overflow_x": null,
            "overflow_y": null,
            "padding": null,
            "right": null,
            "top": null,
            "visibility": null,
            "width": null
          }
        },
        "95329259fd6e4d2d81b5651a022895c9": {
          "model_module": "@jupyter-widgets/base",
          "model_name": "LayoutModel",
          "model_module_version": "1.2.0",
          "state": {
            "_model_module": "@jupyter-widgets/base",
            "_model_module_version": "1.2.0",
            "_model_name": "LayoutModel",
            "_view_count": null,
            "_view_module": "@jupyter-widgets/base",
            "_view_module_version": "1.2.0",
            "_view_name": "LayoutView",
            "align_content": null,
            "align_items": null,
            "align_self": null,
            "border": null,
            "bottom": null,
            "display": null,
            "flex": null,
            "flex_flow": null,
            "grid_area": null,
            "grid_auto_columns": null,
            "grid_auto_flow": null,
            "grid_auto_rows": null,
            "grid_column": null,
            "grid_gap": null,
            "grid_row": null,
            "grid_template_areas": null,
            "grid_template_columns": null,
            "grid_template_rows": null,
            "height": null,
            "justify_content": null,
            "justify_items": null,
            "left": null,
            "margin": null,
            "max_height": null,
            "max_width": null,
            "min_height": null,
            "min_width": null,
            "object_fit": null,
            "object_position": null,
            "order": null,
            "overflow": null,
            "overflow_x": null,
            "overflow_y": null,
            "padding": null,
            "right": null,
            "top": null,
            "visibility": null,
            "width": null
          }
        },
        "1a388264fbc8430190152001c8a097e9": {
          "model_module": "@jupyter-widgets/controls",
          "model_name": "DescriptionStyleModel",
          "model_module_version": "1.5.0",
          "state": {
            "_model_module": "@jupyter-widgets/controls",
            "_model_module_version": "1.5.0",
            "_model_name": "DescriptionStyleModel",
            "_view_count": null,
            "_view_module": "@jupyter-widgets/base",
            "_view_module_version": "1.2.0",
            "_view_name": "StyleView",
            "description_width": ""
          }
        },
        "79bd5e1d85da4b6498504b2def984497": {
          "model_module": "@jupyter-widgets/base",
          "model_name": "LayoutModel",
          "model_module_version": "1.2.0",
          "state": {
            "_model_module": "@jupyter-widgets/base",
            "_model_module_version": "1.2.0",
            "_model_name": "LayoutModel",
            "_view_count": null,
            "_view_module": "@jupyter-widgets/base",
            "_view_module_version": "1.2.0",
            "_view_name": "LayoutView",
            "align_content": null,
            "align_items": null,
            "align_self": null,
            "border": null,
            "bottom": null,
            "display": null,
            "flex": null,
            "flex_flow": null,
            "grid_area": null,
            "grid_auto_columns": null,
            "grid_auto_flow": null,
            "grid_auto_rows": null,
            "grid_column": null,
            "grid_gap": null,
            "grid_row": null,
            "grid_template_areas": null,
            "grid_template_columns": null,
            "grid_template_rows": null,
            "height": null,
            "justify_content": null,
            "justify_items": null,
            "left": null,
            "margin": null,
            "max_height": null,
            "max_width": null,
            "min_height": null,
            "min_width": null,
            "object_fit": null,
            "object_position": null,
            "order": null,
            "overflow": null,
            "overflow_x": null,
            "overflow_y": null,
            "padding": null,
            "right": null,
            "top": null,
            "visibility": null,
            "width": null
          }
        },
        "e810e9176c0a4340b2fd618bf792c792": {
          "model_module": "@jupyter-widgets/controls",
          "model_name": "ProgressStyleModel",
          "model_module_version": "1.5.0",
          "state": {
            "_model_module": "@jupyter-widgets/controls",
            "_model_module_version": "1.5.0",
            "_model_name": "ProgressStyleModel",
            "_view_count": null,
            "_view_module": "@jupyter-widgets/base",
            "_view_module_version": "1.2.0",
            "_view_name": "StyleView",
            "bar_color": null,
            "description_width": ""
          }
        },
        "23c27e86096c4e48a6f7fba926fdfb86": {
          "model_module": "@jupyter-widgets/base",
          "model_name": "LayoutModel",
          "model_module_version": "1.2.0",
          "state": {
            "_model_module": "@jupyter-widgets/base",
            "_model_module_version": "1.2.0",
            "_model_name": "LayoutModel",
            "_view_count": null,
            "_view_module": "@jupyter-widgets/base",
            "_view_module_version": "1.2.0",
            "_view_name": "LayoutView",
            "align_content": null,
            "align_items": null,
            "align_self": null,
            "border": null,
            "bottom": null,
            "display": null,
            "flex": null,
            "flex_flow": null,
            "grid_area": null,
            "grid_auto_columns": null,
            "grid_auto_flow": null,
            "grid_auto_rows": null,
            "grid_column": null,
            "grid_gap": null,
            "grid_row": null,
            "grid_template_areas": null,
            "grid_template_columns": null,
            "grid_template_rows": null,
            "height": null,
            "justify_content": null,
            "justify_items": null,
            "left": null,
            "margin": null,
            "max_height": null,
            "max_width": null,
            "min_height": null,
            "min_width": null,
            "object_fit": null,
            "object_position": null,
            "order": null,
            "overflow": null,
            "overflow_x": null,
            "overflow_y": null,
            "padding": null,
            "right": null,
            "top": null,
            "visibility": null,
            "width": null
          }
        },
        "8ead2aff9f96427f979097c496fadd1e": {
          "model_module": "@jupyter-widgets/controls",
          "model_name": "DescriptionStyleModel",
          "model_module_version": "1.5.0",
          "state": {
            "_model_module": "@jupyter-widgets/controls",
            "_model_module_version": "1.5.0",
            "_model_name": "DescriptionStyleModel",
            "_view_count": null,
            "_view_module": "@jupyter-widgets/base",
            "_view_module_version": "1.2.0",
            "_view_name": "StyleView",
            "description_width": ""
          }
        }
      }
    }
  },
  "nbformat": 4,
  "nbformat_minor": 0
}