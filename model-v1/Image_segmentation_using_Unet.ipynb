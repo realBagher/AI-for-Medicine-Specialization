{
  "nbformat": 4,
  "nbformat_minor": 0,
  "metadata": {
    "colab": {
      "provenance": [],
      "authorship_tag": "ABX9TyPFjVB5tjJ9l2rg8vE1tYlb",
      "include_colab_link": true
    },
    "kernelspec": {
      "name": "python3",
      "display_name": "Python 3"
    },
    "language_info": {
      "name": "python"
    }
  },
  "cells": [
    {
      "cell_type": "markdown",
      "metadata": {
        "id": "view-in-github",
        "colab_type": "text"
      },
      "source": [
        "<a href=\"https://colab.research.google.com/github/realBagher/AI-for-Medicine-Specialization/blob/main/model-v1/Image_segmentation_using_Unet.ipynb\" target=\"_parent\"><img src=\"https://colab.research.google.com/assets/colab-badge.svg\" alt=\"Open In Colab\"/></a>"
      ]
    },
    {
      "cell_type": "code",
      "execution_count": 14,
      "metadata": {
        "id": "ajR-ZIV6LDbL"
      },
      "outputs": [],
      "source": [
        "import tensorflow as tf \n",
        "from tensorflow.keras.layers import Dropout,Conv2D,MaxPooling2D,Conv2DTranspose,concatenate"
      ]
    },
    {
      "cell_type": "markdown",
      "source": [
        "##Note preprocessing "
      ],
      "metadata": {
        "id": "klqe1C6CLPhE"
      }
    },
    {
      "cell_type": "code",
      "source": [
        "IMAGE_WIDTH = 124\n",
        "IMAGE_HEIGHT = 124\n",
        "IMAGE_CHANNEL = 3"
      ],
      "metadata": {
        "id": "XKzelJ9bLdKz"
      },
      "execution_count": 3,
      "outputs": []
    },
    {
      "cell_type": "code",
      "source": [
        "#Model \n",
        "\n",
        "inputs = tf.keras.layers.Input((IMAGE_WIDTH,IMAGE_HEIGHT,IMAGE_CHANNEL))\n",
        "\n",
        "\n",
        "#contraction \n",
        "inputs_scaled = tf.keras.layers.Lambda(lambda x : x/255)(inputs)\n",
        "\n",
        "c1 = tf.keras.layers.Conv2D(16,(3,3),activation='relu',kernel_initializer='he_normal',padding='same')(inputs_scaled)\n",
        "c1 = tf.keras.layers.Dropout(0.1)(c1)\n",
        "c1 = tf.keras.layers.Conv2D(16,(3,3),activation='relu',kernel_initializer='he_normal',padding='same')(c1)\n",
        "p1 = tf.keras.layers.MaxPooling2D((2,2))(c1)\n",
        "\n",
        "\n",
        "c2 = tf.keras.layers.Conv2D(32,(3,3),activation='relu',kernel_initializer='he_normal',padding='same')(p1)\n",
        "c2 = Dropout(0.1)(c2)\n",
        "c2 = Conv2D(32,(3,3),activation='relu',kernel_initializer='he_normal',padding='same')(c2)\n",
        "p2 = MaxPooling2D((2,2))(c2)\n",
        "\n",
        "\n",
        "c3 = Conv2D(64,(3,3),activation='relu',kernel_initializer='he_normal',padding='same')(p2)\n",
        "c3 = Dropout(0.2)(c3)\n",
        "c3 = Conv2D(64,(3,3),activation='relu',kernel_initializer='he_normal',padding='same')(c3)\n",
        "p3 = MaxPooling2D((2,2))(c3)\n",
        "\n",
        "\n",
        "c4 = Conv2D(128,(3,3),activation='relu',kernel_initializer='he_normal',padding='same')(c3)\n",
        "c4 = Dropout(0.2)(c4)\n",
        "c4 = Conv2D(128,(3,3),activation='relu',kernel_initializer='he_normal',padding='same')(c3)\n",
        "p4 = MaxPooling2D((2,2))(c4)\n",
        "\n",
        "\n",
        "c5 = Conv2D(256,(3,3),activation='relu',kernel_initializer='he_normal',padding='same')(p4)\n",
        "c5 = Dropout(0.3)(c5)\n",
        "c5 = Conv2D(256,(3,3),activation='relu',kernel_initializer='he_normal',padding='same')(c5)\n",
        "\n"
      ],
      "metadata": {
        "id": "l4taVNrHLd0a"
      },
      "execution_count": 12,
      "outputs": []
    }
  ]
}